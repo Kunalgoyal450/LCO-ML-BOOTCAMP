{
 "cells": [
  {
   "cell_type": "code",
   "execution_count": 1,
   "metadata": {},
   "outputs": [],
   "source": [
    "import re"
   ]
  },
  {
   "cell_type": "code",
   "execution_count": 2,
   "metadata": {},
   "outputs": [],
   "source": [
    "sstring=\"This is a normal message\""
   ]
  },
  {
   "cell_type": "code",
   "execution_count": 6,
   "metadata": {},
   "outputs": [],
   "source": [
    "exp='.is'"
   ]
  },
  {
   "cell_type": "code",
   "execution_count": 7,
   "metadata": {},
   "outputs": [
    {
     "data": {
      "text/plain": [
       "['his', ' is']"
      ]
     },
     "execution_count": 7,
     "metadata": {},
     "output_type": "execute_result"
    }
   ],
   "source": [
    "re.findall(exp,sstring)"
   ]
  },
  {
   "cell_type": "code",
   "execution_count": 34,
   "metadata": {},
   "outputs": [],
   "source": [
    "#\\d=all numeric digit\n",
    "#\\w=alll words\n",
    "#\\s=all the white space\n",
    "#\\W=all exclusive words\n",
    "#\\!@#$%^&*()\n",
    "#\\D=all digits are removed"
   ]
  },
  {
   "cell_type": "code",
   "execution_count": 35,
   "metadata": {},
   "outputs": [],
   "source": [
    "sting=\"This is a sting of number 12 6443423423 34234 234\""
   ]
  },
  {
   "cell_type": "code",
   "execution_count": 36,
   "metadata": {},
   "outputs": [],
   "source": [
    "exp=\"[a-zA-Z]+\""
   ]
  },
  {
   "cell_type": "code",
   "execution_count": 37,
   "metadata": {},
   "outputs": [
    {
     "data": {
      "text/plain": [
       "['This', 'is', 'a', 'sting', 'of', 'number']"
      ]
     },
     "execution_count": 37,
     "metadata": {},
     "output_type": "execute_result"
    }
   ],
   "source": [
    "re.findall(exp,sting)"
   ]
  },
  {
   "cell_type": "code",
   "execution_count": null,
   "metadata": {},
   "outputs": [],
   "source": [
    "import re\n",
    "i=input(\"Input your password: \")\n",
    "exp=r'[A-Za-z0-9@#$%^&+=]{6,12}'\n",
    "if re.match(exp,i):\n",
    "    print(\"Valid Password\")\n",
    "else:\n",
    "    print(\"Incorrect\")"
   ]
  },
  {
   "cell_type": "code",
   "execution_count": 8,
   "metadata": {},
   "outputs": [
    {
     "data": {
      "text/plain": [
       "['9460112011',\n",
       " '9460832467',\n",
       " '9414294368',\n",
       " '9829064969',\n",
       " '9414267888',\n",
       " '9414325479',\n",
       " '9414160678',\n",
       " '9414160678',\n",
       " '9413617606',\n",
       " '9783863972',\n",
       " '9828415275',\n",
       " '9828415275',\n",
       " '9414234569',\n",
       " '9460887802',\n",
       " '7737516889',\n",
       " '9462399487',\n",
       " '9460217272',\n",
       " '9414399599',\n",
       " '9414234569',\n",
       " '9414294368',\n",
       " '9829064969']"
      ]
     },
     "execution_count": 8,
     "metadata": {},
     "output_type": "execute_result"
    }
   ],
   "source": [
    "import re\n",
    "with open('RTI_9.txt') as file:\n",
    "    r=file.read()\n",
    "exp='\\d{10}'\n",
    "re.findall(exp,r)"
   ]
  },
  {
   "cell_type": "code",
   "execution_count": null,
   "metadata": {},
   "outputs": [],
   "source": []
  }
 ],
 "metadata": {
  "kernelspec": {
   "display_name": "Python 3",
   "language": "python",
   "name": "python3"
  }
 },
 "nbformat": 4,
 "nbformat_minor": 2
}

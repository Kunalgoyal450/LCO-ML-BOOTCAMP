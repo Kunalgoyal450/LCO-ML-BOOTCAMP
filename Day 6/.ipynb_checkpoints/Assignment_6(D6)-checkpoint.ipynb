{
 "cells": [
  {
   "cell_type": "raw",
   "metadata": {},
   "source": [
    "How would you write a regex that matches the full name of someone\n",
    "whose last name is Python? You can assume that the first name that\n",
    "comes before it will always be one word that begins with a capital letter.\n",
    "The regex must match the following:\n",
    "•\t 'Hello Python'\n",
    "•\t 'World Python'\n",
    "•\t 'RoboCop Python'\n",
    "but not the following:\n",
    "•\t 'satoshi Python' (where the first name is not capitalized)\n",
    "•\t 'Mr. Python' (where the preceding word has a nonletter character)\n",
    "•\t 'Python' (which has no first name)\n",
    "•\t 'Satoshi Python' (where Nakamoto is not capitalized)"
   ]
  },
  {
   "cell_type": "code",
   "execution_count": 1,
   "metadata": {},
   "outputs": [
    {
     "name": "stdout",
     "output_type": "stream",
     "text": [
      "Put your name here: Hello Python\n",
      "Hello Python matches\n"
     ]
    }
   ],
   "source": [
    "import re\n",
    "name=input(\"Put your name here: \")\n",
    "def namematch(name):\n",
    "    p=re.compile(r'\\b[A-Z][a-zA-Z]+\\sPython')\n",
    "    if p.search(name):\n",
    "        print(name,'matches')\n",
    "    else:\n",
    "        print(name,'dose not matches')\n",
    "namematch(name)"
   ]
  },
  {
   "cell_type": "raw",
   "metadata": {},
   "source": [
    "How would you write a regex that matches a sentence where the first\n",
    "word is either Alice, Bob, or Carol; the second word is either eats, pets, or\n",
    "throws; the third word is apples, cats, or baseballs; and the sentence ends\n",
    "with a period? This regex should be case-insensitive. It must match the\n",
    "following:\n",
    "•\t 'Alice eats apples.'\n",
    "•\t 'Bob pets cats.'\n",
    "•\t 'Carol throws baseballs.'\n",
    "•\t 'Alice throws Apples.'\n",
    "•\t 'BOB EATS CATS.'\n",
    "but not the following:\n",
    "•\t 'RoboCop eats apples.'\n",
    "•\t 'ALICE THROWS FOOTBALLS.'\n",
    "•\t 'Carol eats 7 cats.'"
   ]
  },
  {
   "cell_type": "code",
   "execution_count": 7,
   "metadata": {},
   "outputs": [
    {
     "name": "stdout",
     "output_type": "stream",
     "text": [
      "Input your sting here: alice eats cats\n",
      "Not Matched\n"
     ]
    }
   ],
   "source": [
    "import re\n",
    "string=input(\"Input your sting here: \")\n",
    "def strmatch(string):\n",
    "    p=re.compile(r'(Alice|Bob|Carol)\\s(eats|pets|throws)\\s(apples|cats|baseballs)\\.',re.IGNORECASE)\n",
    "    if p.search(string):\n",
    "        print(\"MAtched\")\n",
    "    else:\n",
    "        print(\"Not Matched\")\n",
    "strmatch(string)"
   ]
  },
  {
   "cell_type": "raw",
   "metadata": {},
   "source": [
    "Creat An Email Bomber"
   ]
  },
  {
   "cell_type": "code",
   "execution_count": 7,
   "metadata": {},
   "outputs": [
    {
     "name": "stdout",
     "output_type": "stream",
     "text": [
      "Enter your Email: Suprem.suprem.nandal@gmail.com\n",
      "Enter your password: ········\n",
      "Enter reciver email adress: qzj42845@cndps.com\n",
      "Enter your message: heyyyyyyyyyyy\n",
      "Number of times: 500\n",
      "Number of message sent: 1\n",
      "Number of message sent: 2\n",
      "Number of message sent: 3\n",
      "Number of message sent: 4\n",
      "Number of message sent: 5\n",
      "Number of message sent: 6\n",
      "Number of message sent: 7\n",
      "Number of message sent: 8\n",
      "Number of message sent: 9\n",
      "Number of message sent: 10\n",
      "Number of message sent: 11\n"
     ]
    },
    {
     "ename": "KeyboardInterrupt",
     "evalue": "",
     "output_type": "error",
     "traceback": [
      "\u001b[0;31m---------------------------------------------------------------------------\u001b[0m",
      "\u001b[0;31mKeyboardInterrupt\u001b[0m                         Traceback (most recent call last)",
      "\u001b[0;32m<ipython-input-7-3e88297c5b79>\u001b[0m in \u001b[0;36m<module>\u001b[0;34m\u001b[0m\n\u001b[1;32m     13\u001b[0m     \u001b[0mprint\u001b[0m\u001b[0;34m(\u001b[0m\u001b[0;34m\"Number of message sent:\"\u001b[0m\u001b[0;34m,\u001b[0m\u001b[0mi\u001b[0m\u001b[0;34m+\u001b[0m\u001b[0;36m1\u001b[0m\u001b[0;34m)\u001b[0m\u001b[0;34m\u001b[0m\u001b[0;34m\u001b[0m\u001b[0m\n\u001b[1;32m     14\u001b[0m     \u001b[0mmail\u001b[0m\u001b[0;34m.\u001b[0m\u001b[0msendmail\u001b[0m\u001b[0;34m(\u001b[0m\u001b[0mymail\u001b[0m\u001b[0;34m,\u001b[0m\u001b[0mbmail\u001b[0m\u001b[0;34m,\u001b[0m\u001b[0mmessage\u001b[0m\u001b[0;34m)\u001b[0m\u001b[0;34m\u001b[0m\u001b[0;34m\u001b[0m\u001b[0m\n\u001b[0;32m---> 15\u001b[0;31m     \u001b[0mtime\u001b[0m\u001b[0;34m.\u001b[0m\u001b[0msleep\u001b[0m\u001b[0;34m(\u001b[0m\u001b[0;36m2\u001b[0m\u001b[0;34m)\u001b[0m\u001b[0;34m\u001b[0m\u001b[0;34m\u001b[0m\u001b[0m\n\u001b[0m\u001b[1;32m     16\u001b[0m \u001b[0mmail\u001b[0m\u001b[0;34m.\u001b[0m\u001b[0mclose\u001b[0m\u001b[0;34m(\u001b[0m\u001b[0;34m)\u001b[0m\u001b[0;34m\u001b[0m\u001b[0;34m\u001b[0m\u001b[0m\n",
      "\u001b[0;31mKeyboardInterrupt\u001b[0m: "
     ]
    }
   ],
   "source": [
    "import smtplib\n",
    "import time\n",
    "from getpass import getpass\n",
    "mail=smtplib.SMTP('smtp.gmail.com',587)\n",
    "mail.starttls()\n",
    "ymail=input(\"Enter your Email: \")\n",
    "ypass=getpass(\"Enter your password: \")\n",
    "bmail=input(\"Enter reciver email adress: \")\n",
    "message=input(\"Enter your message: \")\n",
    "c=int(input(\"Number of times: \"))\n",
    "mail.login(ymail,ypass)\n",
    "for i in range(0,c):\n",
    "    print(\"Number of message sent:\",i+1)\n",
    "    mail.sendmail(ymail,bmail,message)\n",
    "    time.sleep(2)\n",
    "mail.close()    "
   ]
  },
  {
   "cell_type": "code",
   "execution_count": null,
   "metadata": {},
   "outputs": [],
   "source": []
  }
 ],
 "metadata": {
  "kernelspec": {
   "display_name": "Python 3",
   "language": "python",
   "name": "python3"
  }
 },
 "nbformat": 4,
 "nbformat_minor": 2
}

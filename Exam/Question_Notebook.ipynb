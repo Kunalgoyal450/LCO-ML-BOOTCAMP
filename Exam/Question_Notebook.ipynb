{
 "cells": [
  {
   "cell_type": "raw",
   "metadata": {},
   "source": [
    "P1\n",
    "Character Picture Grid\n",
    "Say you have a list of lists where each value in the inner lists is a one-character\n",
    "string, like this:\n",
    "    grid =  [['.','.','.','.','.','.'],\n",
    "             ['.','0','0','.','.','.'],\n",
    "             ['0','0','0','0','.','.'],\n",
    "             ['0','0','0','0','0','.'],\n",
    "             ['.','0','0','0','0','0'],\n",
    "             ['0','0','0','0','0','.'],\n",
    "             ['0','0','0','0','.','.'],\n",
    "             ['.','0','0','.','.','.'],\n",
    "             ['.','.','.','.','.','.']]\n",
    "think of grid[x][y] as being the character at the x- and\n",
    "y-­coordinates of a “picture” drawn with text characters. The (0, 0) origin\n",
    "will be in the upper-left corner, the x-coordinates increase going right,\n",
    "and the y-coordinates increase going down.\n",
    "Copy the previous grid value, and write code that uses it to print the image.\n",
    "..OO.OO..\n",
    ".OOOOOOO.\n",
    ".OOOOOOO.\n",
    "..OOOOO..\n",
    "...OOO...\n",
    "....O...."
   ]
  },
  {
   "cell_type": "code",
   "execution_count": null,
   "metadata": {},
   "outputs": [],
   "source": []
  },
  {
   "cell_type": "raw",
   "metadata": {},
   "source": [
    "P2\n",
    "weekdays = [‘sun’,’mon’,’tue’,’wed’,’thu’,’fri’,’sat’]\n",
    "convert this list into string"
   ]
  },
  {
   "cell_type": "code",
   "execution_count": 5,
   "metadata": {},
   "outputs": [
    {
     "name": "stdout",
     "output_type": "stream",
     "text": [
      " sunmontuewedthufrisat\n"
     ]
    }
   ],
   "source": [
    "weekdays = ['sun','mon','tue','wed','thu','fri','sat']\n",
    "re= \" \"\n",
    "for i in weekdays:\n",
    "    re=re+i\n",
    "print(re)"
   ]
  },
  {
   "cell_type": "raw",
   "metadata": {},
   "source": [
    "P3\n",
    "write a program to find the average of numbers in a list in Python?"
   ]
  },
  {
   "cell_type": "code",
   "execution_count": 48,
   "metadata": {},
   "outputs": [
    {
     "name": "stdout",
     "output_type": "stream",
     "text": [
      "25.0\n"
     ]
    }
   ],
   "source": [
    "l=[10,20,30,40]\n",
    "su=0\n",
    "for i in l:\n",
    "    su=su+i\n",
    "print(su/len(l))\n",
    "    "
   ]
  },
  {
   "cell_type": "raw",
   "metadata": {},
   "source": [
    "P4\n",
    "assuming that we have some email addresses in the \"username@companyname.com\" format, please write program to print the user name of a given email address. Both user names and company names are composed of letters only.\n",
    "\n",
    "Example:\n",
    "If the following email address is given as input to the program:\n",
    "\n",
    "john@google.com\n",
    "\n",
    "Then, the output of the program should be:\n",
    "\n",
    "john"
   ]
  },
  {
   "cell_type": "code",
   "execution_count": 8,
   "metadata": {},
   "outputs": [
    {
     "name": "stdout",
     "output_type": "stream",
     "text": [
      "Ente your email id: kunal@gmail.com\n",
      "kunal\n"
     ]
    }
   ],
   "source": [
    "import re\n",
    "\n",
    "exp = r'^([^@]+)@[^@]+$'\n",
    "emailStr = input(\"Ente your email id: \")\n",
    "matchobj = re.search(regexStr, emailStr)\n",
    "if not matchobj is None:\n",
    "    print (matchobj.group(1))\n",
    "else:\n",
    "    print (\"Did not match\")\n"
   ]
  },
  {
   "cell_type": "raw",
   "metadata": {},
   "source": [
    "P5\n",
    "Write a program to compute 1/2+2/3+3/4+...+n/n+1 with a given n input by console (n>0).\n",
    "\n",
    "Example:\n",
    "If the following n is given as input to the program:\n",
    "\n",
    "5\n",
    "\n",
    "Then, the output of the program should be:\n",
    "\n",
    "3.55"
   ]
  },
  {
   "cell_type": "code",
   "execution_count": 1,
   "metadata": {},
   "outputs": [
    {
     "name": "stdout",
     "output_type": "stream",
     "text": [
      "Enter your no.: 5\n",
      "3.5500000000000003\n"
     ]
    }
   ],
   "source": [
    "n=int(input(\"Enter your no.: \"))\n",
    "su=0\n",
    "l=[]\n",
    "for i in range(1,n+1):\n",
    "    su=i/(i+1)\n",
    "    l.append(su)\n",
    "du=0\n",
    "for j in l:\n",
    "    du=du+j\n",
    "print(du)"
   ]
  },
  {
   "cell_type": "raw",
   "metadata": {},
   "source": [
    "P6\n",
    "Please write a program using generator to print the even numbers between 0 and n in comma separated form while n is input by console.\n",
    "\n",
    "Example:\n",
    "If the following n is given as input to the program:\n",
    "\n",
    "10\n",
    "\n",
    "Then, the output of the program should be:\n",
    "\n",
    "0,2,4,6,8,10"
   ]
  },
  {
   "cell_type": "code",
   "execution_count": 5,
   "metadata": {},
   "outputs": [
    {
     "name": "stdout",
     "output_type": "stream",
     "text": [
      "Enter your no.: 10\n",
      "0,2,4,6,8,10,"
     ]
    }
   ],
   "source": [
    "n=int(input(\"Enter your no.: \"))\n",
    "for i in range(n+1):\n",
    "    if i%2==0:\n",
    "        print(i,end=\",\")"
   ]
  },
  {
   "cell_type": "raw",
   "metadata": {},
   "source": [
    "P7\n",
    "Please write a program to generate all sentences where subject is in [\"I\", \"You\"] and verb is in [\"Play\", \"Love\"] and the object is in [\"Hockey\",\"Football\"].\n",
    "\n",
    "Output:\n",
    "I Play Hockey.\n",
    "I Play Football.\n",
    "I Love Hockey.\n",
    "I Love Football.\n",
    "You Play Hockey.\n",
    "You Play Football.\n",
    "You Love Hockey.\n",
    "You Love Football."
   ]
  },
  {
   "cell_type": "code",
   "execution_count": 27,
   "metadata": {},
   "outputs": [
    {
     "name": "stdout",
     "output_type": "stream",
     "text": [
      "I Play Hockey\n",
      "I Play Football\n",
      "I Love Hockey\n",
      "I Love Football\n",
      "You Play Hockey\n",
      "You Play Football\n",
      "You Love Hockey\n",
      "You Love Football\n"
     ]
    }
   ],
   "source": [
    "n1=[\"I\",\"You\"]\n",
    "n2=[\"Play\",\"Love\"]\n",
    "n3=[\"Hockey\",\"Football\"]\n",
    "for i in n1:\n",
    "    for j in n2:\n",
    "        for k in n3:\n",
    "            print(i,j,k)"
   ]
  },
  {
   "cell_type": "raw",
   "metadata": {},
   "source": [
    "P8\n",
    "please write a program generate a 3*5*8 3D array whose each element is 0 (3D Array)"
   ]
  },
  {
   "cell_type": "code",
   "execution_count": 3,
   "metadata": {},
   "outputs": [
    {
     "data": {
      "text/plain": [
       "array([[[0, 0, 0, 0, 0, 0, 0, 0],\n",
       "        [0, 0, 0, 0, 0, 0, 0, 0],\n",
       "        [0, 0, 0, 0, 0, 0, 0, 0],\n",
       "        [0, 0, 0, 0, 0, 0, 0, 0],\n",
       "        [0, 0, 0, 0, 0, 0, 0, 0]],\n",
       "\n",
       "       [[0, 0, 0, 0, 0, 0, 0, 0],\n",
       "        [0, 0, 0, 0, 0, 0, 0, 0],\n",
       "        [0, 0, 0, 0, 0, 0, 0, 0],\n",
       "        [0, 0, 0, 0, 0, 0, 0, 0],\n",
       "        [0, 0, 0, 0, 0, 0, 0, 0]],\n",
       "\n",
       "       [[0, 0, 0, 0, 0, 0, 0, 0],\n",
       "        [0, 0, 0, 0, 0, 0, 0, 0],\n",
       "        [0, 0, 0, 0, 0, 0, 0, 0],\n",
       "        [0, 0, 0, 0, 0, 0, 0, 0],\n",
       "        [0, 0, 0, 0, 0, 0, 0, 0]]])"
      ]
     },
     "execution_count": 3,
     "metadata": {},
     "output_type": "execute_result"
    }
   ],
   "source": [
    "import numpy as np\n",
    "ar=np.arange(3*5*8)\n",
    "n=ar.reshape(3,5,8)\n",
    "n*0"
   ]
  },
  {
   "cell_type": "raw",
   "metadata": {},
   "source": [
    "P9\n",
    "Please write a program which accepts a string from console and print it in reverse order.\n",
    "\n",
    "Example:\n",
    "If the following string is given as input to the program:\n",
    "\n",
    "rise to vote sir\n",
    "\n",
    "Then, the output of the program should be\n",
    "\n",
    "sir vote to rise"
   ]
  },
  {
   "cell_type": "code",
   "execution_count": 23,
   "metadata": {},
   "outputs": [
    {
     "name": "stdout",
     "output_type": "stream",
     "text": [
      "Enter your sting here: rise to vote sir\n",
      "  sir vote to rise "
     ]
    }
   ],
   "source": [
    "n=input(\"Enter your sting here: \")\n",
    "l=n.split(\" \")\n",
    "t=l[::-1]\n",
    "re=\" \"\n",
    "for i in t:\n",
    "    re=re+\" \"+i\n",
    "print(re,end=\" \")"
   ]
  },
  {
   "cell_type": "raw",
   "metadata": {},
   "source": []
  },
  {
   "cell_type": "raw",
   "metadata": {},
   "source": []
  },
  {
   "cell_type": "raw",
   "metadata": {},
   "source": []
  },
  {
   "cell_type": "raw",
   "metadata": {},
   "source": []
  },
  {
   "cell_type": "raw",
   "metadata": {},
   "source": []
  },
  {
   "cell_type": "raw",
   "metadata": {},
   "source": []
  }
 ],
 "metadata": {
  "kernelspec": {
   "display_name": "Python 3",
   "language": "python",
   "name": "python3"
  },
  "language_info": {
   "codemirror_mode": {
    "name": "ipython",
    "version": 3
   },
   "file_extension": ".py",
   "mimetype": "text/x-python",
   "name": "python",
   "nbconvert_exporter": "python",
   "pygments_lexer": "ipython3",
   "version": "3.7.1"
  }
 },
 "nbformat": 4,
 "nbformat_minor": 2
}

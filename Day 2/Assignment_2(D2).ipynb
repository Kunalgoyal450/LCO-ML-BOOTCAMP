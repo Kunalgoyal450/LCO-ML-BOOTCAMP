{
 "cells": [
  {
   "cell_type": "markdown",
   "metadata": {},
   "source": [
    "##### P1\n",
    "You are given an integer N. You need to print the series of all prime numbers till N.\n",
    "\n",
    "Input Format\n",
    "\n",
    "The first and only line of the input contains a single integer N denoting the number till where you need to find the series of prime number.\n",
    "\n",
    "Output Format\n",
    "\n",
    "Print the desired output in single line separated by spaces.\n",
    "\n",
    "Constraints\n",
    "\n",
    "1<=N<=1000\n",
    "\n",
    "\n",
    "SAMPLE INPUT\n",
    "\n",
    "9\n",
    "\n",
    "SAMPLE OUTPUT\n",
    "\n",
    "2 \n",
    "\n",
    "3 \n",
    "\n",
    "5 \n",
    "\n",
    "7"
   ]
  },
  {
   "cell_type": "code",
   "execution_count": 16,
   "metadata": {},
   "outputs": [
    {
     "name": "stdout",
     "output_type": "stream",
     "text": [
      "Enter number: 9\n",
      "2   3   5   7   "
     ]
    }
   ],
   "source": [
    "n = eval(input('Enter number: '))\n",
    "for num in range(2,n):\n",
    "    prime = True\n",
    "    for i in range(2,num):\n",
    "        if (num%i==0):\n",
    "            prime = False\n",
    "    if prime:\n",
    "        print(num, \"  \", end = \"\")"
   ]
  },
  {
   "cell_type": "code",
   "execution_count": null,
   "metadata": {},
   "outputs": [],
   "source": []
  },
  {
   "cell_type": "markdown",
   "metadata": {},
   "source": [
    "## P2\n",
    "\n",
    "### using for loop implement factorial find program\n",
    "\n",
    "### Example: factorial of 5 = 120"
   ]
  },
  {
   "cell_type": "code",
   "execution_count": 24,
   "metadata": {},
   "outputs": [
    {
     "name": "stdout",
     "output_type": "stream",
     "text": [
      "Enter number:7\n",
      "The factorial of number 7 is 5040\n"
     ]
    }
   ],
   "source": [
    "n=int(input(\"Enter number:\"))\n",
    "result = 1\n",
    "for i in range(n,0,-1):\n",
    "    result= i*result\n",
    "print('The factorial of number',n,'is',result)"
   ]
  },
  {
   "cell_type": "markdown",
   "metadata": {},
   "source": [
    "## P3\n",
    "\n",
    "### Implement Fibonacci finding program"
   ]
  },
  {
   "cell_type": "code",
   "execution_count": 35,
   "metadata": {},
   "outputs": [
    {
     "name": "stdout",
     "output_type": "stream",
     "text": [
      "Please enter the range numbeer: 10\n",
      "0\n",
      "1\n",
      "1\n",
      "2\n",
      "3\n",
      "5\n",
      "8\n",
      "13\n",
      "21\n",
      "34\n"
     ]
    }
   ],
   "source": [
    "n = int(input(\"Please enter the range numbeer: \"))\n",
    "\n",
    "n1=0\n",
    "n2=1\n",
    "\n",
    "for num in range(0,n):\n",
    "    if(num <= 1):\n",
    "        net = num\n",
    "    else:\n",
    "        net = n1+n2\n",
    "        n1 = n2\n",
    "        n2 = net\n",
    "    print(net)"
   ]
  },
  {
   "cell_type": "markdown",
   "metadata": {},
   "source": [
    "## P4\n",
    "\n",
    "### Print a triangle via python"
   ]
  },
  {
   "cell_type": "raw",
   "metadata": {},
   "source": [
    "        * \n",
    "       * * \n",
    "      * * * \n",
    "     * * * * \n",
    "    * * * * * "
   ]
  },
  {
   "cell_type": "code",
   "execution_count": 1,
   "metadata": {},
   "outputs": [
    {
     "name": "stdout",
     "output_type": "stream",
     "text": [
      "Enter the number of rows: 5\n",
      "    * \n",
      "   * * \n",
      "  * * * \n",
      " * * * * \n",
      "* * * * * \n"
     ]
    }
   ],
   "source": [
    "n = int(input('Enter the number of rows: '))\n",
    "for i in range(0,n):\n",
    "    for j in range(0,n-i-1):\n",
    "        print(end= \" \")\n",
    "    for k in range(0,i+1):\n",
    "        print(\"*\", end= \" \")\n",
    "    print()"
   ]
  },
  {
   "cell_type": "markdown",
   "metadata": {},
   "source": [
    "## P5\n",
    "\n",
    "Given an array arr of N integers. Find the contiguous sub-array with maximum sum.\n",
    "\n",
    "Input:\n",
    "The first line of input contains an integer T denoting the number of test cases. The description of T test cases follows. The first line of each test case contains a single integer N denoting the size of array. The second line contains N space-separated integers A1, A2, ..., AN denoting the elements of the array.\n",
    "\n",
    "Output:\n",
    "Print the maximum sum of the contiguous sub-array in a separate line for each test case.\n",
    "\n",
    "Example:\n",
    "Input\n",
    "\n",
    "2\n",
    "\n",
    "5\n",
    "\n",
    "1 2 3 -2 5\n",
    "\n",
    "4\n",
    "\n",
    "-1 -2 -3 -4\n",
    "\n",
    "Output\n",
    "\n",
    "6\n",
    "\n",
    "-1\n",
    "\n",
    "Explanation:\n",
    "Testcase 1: Max subarray sum is 6 of elements (1, 2, 3) which is a contiguous subarray."
   ]
  },
  {
   "cell_type": "code",
   "execution_count": 2,
   "metadata": {},
   "outputs": [],
   "source": [
    "# question 5 asked in many coding interviews like at Amazon,Flipkart,Samsung,Wallmart So try to do it from Yourself\n"
   ]
  },
  {
   "cell_type": "code",
   "execution_count": null,
   "metadata": {},
   "outputs": [],
   "source": [
    "n=eval(input(\"Enter your testcse: \"))\n",
    "\n",
    "    "
   ]
  }
 ],
 "metadata": {
  "kernelspec": {
   "display_name": "Python 3",
   "language": "python",
   "name": "python3"
  },
  "language_info": {
   "codemirror_mode": {
    "name": "ipython",
    "version": 3
   },
   "file_extension": ".py",
   "mimetype": "text/x-python",
   "name": "python",
   "nbconvert_exporter": "python",
   "pygments_lexer": "ipython3",
   "version": "3.6.5"
  }
 },
 "nbformat": 4,
 "nbformat_minor": 2
}

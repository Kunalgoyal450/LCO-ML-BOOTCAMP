{
 "cells": [
  {
   "cell_type": "code",
   "execution_count": 1,
   "metadata": {},
   "outputs": [
    {
     "name": "stdout",
     "output_type": "stream",
     "text": [
      "<div class=\"a-box-group a-spacing-top-micro acs_product-title\">\n",
      "<a class=\"a-link-normal\" href=\"/Stone-200-Portable-Bluetooth-Speakers/dp/B01JIP44OU\" title=\"boAt Stone 200 Portable Bluetooth Speakers (Black)\">\n",
      "<span class=\"a-size-small\">boAt Stone 200 Portable Bluetooth...</span>\n",
      "</a>\n",
      "</div> <span class=\"a-size-base a-color-price acs_product-price__buying\">₹ 1,099.00  </span>\n",
      "<div class=\"a-box-group a-spacing-top-micro acs_product-title\">\n",
      "<a class=\"a-link-normal\" href=\"/Stone-200-Portable-Bluetooth-Speakers/dp/B01JIP48IC\" title=\"boAt Stone 200 Portable Bluetooth Speakers (Blue)\">\n",
      "<span class=\"a-size-small\">boAt Stone 200 Portable Bluetooth...</span>\n",
      "</a>\n",
      "</div> <span class=\"a-size-base a-color-price acs_product-price__buying\">₹ 1,031.00  </span>\n",
      "<div class=\"a-box-group a-spacing-top-micro acs_product-title\">\n",
      "<a class=\"a-link-normal\" href=\"/All-new-Echo-Dot-3rd-Gen/dp/B0792KTHKK\" title=\"All-new Echo Dot (3rd Gen) - Smart speaker with Alexa (Black)\">\n",
      "<span class=\"a-size-small\">All-new Echo Dot - Smart speaker with...</span>\n",
      "</a>\n",
      "</div> <span class=\"a-size-base a-color-price acs_product-price__buying\">₹ 4,499.00  </span>\n",
      "<div class=\"a-box-group a-spacing-top-micro acs_product-title\">\n",
      "<a class=\"a-link-normal\" href=\"/JBL-Portable-Wireless-Bluetooth-Speaker/dp/B00TFGWAA8\" title=\"JBL GO Portable Wireless Bluetooth Speaker with Mic (Black)\">\n",
      "<span class=\"a-size-small\">JBL GO Portable Wireless Bluetooth...</span>\n",
      "</a>\n",
      "</div> <span class=\"a-size-base a-color-price acs_product-price__buying\">₹ 1,747.00  </span>\n",
      "<div class=\"a-box-group a-spacing-top-micro acs_product-title\">\n",
      "<a class=\"a-link-normal\" href=\"/Quims-Wireless-Bluetooth-Speakers-Smartphones/dp/B07B8QQ4CB\" title=\"Quims Wireless LED Bluetooth Speakers &amp; FM Radio for all Smartphones (Assorted Colour)\">\n",
      "<span class=\"a-size-small\">Quims Wireless LED Bluetooth Speakers...</span>\n",
      "</a>\n",
      "</div> <span class=\"a-size-base a-color-price acs_product-price__buying\">₹ 229.00  </span>\n",
      "<div class=\"a-box-group a-spacing-top-micro acs_product-title\">\n",
      "<a class=\"a-link-normal\" href=\"/Photron-P10-Wireless-Portable-Bluetooth/dp/B01EM2ZFJW\" title=\"Photron P10 Wireless 3W Portable Bluetooth Speaker (Deep Cobalt)\">\n",
      "<span class=\"a-size-small\">Photron P10 Wireless 3W Portable...</span>\n",
      "</a>\n",
      "</div> <span class=\"a-size-base a-color-price acs_product-price__buying\">₹ 699.00  </span>\n",
      "<div class=\"a-box-group a-spacing-top-micro acs_product-title\">\n",
      "<a class=\"a-link-normal\" href=\"/JBL-Portable-Wireless-Bluetooth-Speaker/dp/B00UWM5JJI\" title=\"JBL GO Portable Wireless Bluetooth Speaker with Mic (Red)\">\n",
      "<span class=\"a-size-small\">JBL GO Portable Wireless Bluetooth...</span>\n",
      "</a>\n",
      "</div> <span class=\"a-size-base a-color-price acs_product-price__buying\">₹ 1,706.00  </span>\n",
      "<div class=\"a-box-group a-spacing-top-micro acs_product-title\">\n",
      "<a class=\"a-link-normal\" href=\"/sTechnityped-Technityndsfree-recTechnityrgable-enTechnitynced-Technity/dp/B07DVGYFJ3\" title=\"Xiaomi Mi A2 (Mi 6X) compatible capsule speakers bluetooth speaker for mobile wireless pill sTechnityped with high definition audio portable design Technityndsfree calling function build-in microphone mic and aux support TF SD memory card USB slot fm radio music player recTechnityrgable battery approx 4-6 playing hours best quality enTechnitynced sorround sound trending and stylish top selling discounted offer price supports all android and apple iPhone iOs smartphones pink by Technity\">\n",
      "<span class=\"a-size-small\">Xiaomi Mi A2 compatible capsule...</span>\n",
      "</a>\n",
      "</div> <span class=\"a-size-base a-color-price acs_product-price__buying\">₹ 549.00  </span>\n",
      "<div class=\"a-box-group a-spacing-top-micro acs_product-title\">\n",
      "<a class=\"a-link-normal\" href=\"/All-new-Echo-Dot-3rd-Gen/dp/B0792PG3S8\" title=\"All-new Echo Dot (3rd Gen) - Smart speaker with Alexa (Grey)\">\n",
      "<span class=\"a-size-small\">All-new Echo Dot - Smart speaker with...</span>\n",
      "</a>\n",
      "</div> <span class=\"a-size-base a-color-price acs_product-price__buying\">₹ 4,499.00  </span>\n",
      "<div class=\"a-box-group a-spacing-top-micro acs_product-title\">\n",
      "<a class=\"a-link-normal\" href=\"/Lambent-Wireless-Bluetooth-Headset-Smartphone/dp/B07KKHH1BZ\" title=\"Lambent Mini Wireless Bluetooth Headset with Mic for All Latest Smartphone(Black)\">\n",
      "<span class=\"a-size-small\">Lambent Mini Wireless Bluetooth...</span>\n",
      "</a>\n",
      "</div> <span class=\"a-size-base a-color-price acs_product-price__buying\">₹ 239.00  </span>\n",
      "<div class=\"a-box-group a-spacing-top-micro acs_product-title\">\n",
      "<a class=\"a-link-normal\" href=\"/Boat-Stone-1000-Bluetooth-Monstrous/dp/B072PQRS12\" title=\"Boat Stone 1000 Bluetooth Speaker with Monstrous Sound\">\n",
      "<span class=\"a-size-small\">Boat Stone 1000 Bluetooth Speaker...</span>\n",
      "</a>\n",
      "</div> <span class=\"a-size-base a-color-price acs_product-price__buying\">₹ 2,998.00  </span>\n",
      "<div class=\"a-box-group a-spacing-top-micro acs_product-title\">\n",
      "<a class=\"a-link-normal\" href=\"/All-new-Echo-Dot-3rd-Gen/dp/B0792HC9RP\" title=\"All-new Echo Dot (3rd Gen) - Smart speaker with Alexa (White)\">\n",
      "<span class=\"a-size-small\">All-new Echo Dot - Smart speaker with...</span>\n",
      "</a>\n",
      "</div> <span class=\"a-size-base a-color-price acs_product-price__buying\">₹ 4,499.00  </span>\n",
      "<div class=\"a-box-group a-spacing-top-micro acs_product-title\">\n",
      "<a class=\"a-link-normal\" href=\"/Stone-200-Portable-Bluetooth-Speakers/dp/B01JIP4BPW\" title=\"boAt Stone 200 Portable Bluetooth Speakers (Orange)\">\n",
      "<span class=\"a-size-small\">boAt Stone 200 Portable Bluetooth...</span>\n",
      "</a>\n",
      "</div> <span class=\"a-size-base a-color-price acs_product-price__buying\">₹ 1,099.00  </span>\n",
      "<div class=\"a-box-group a-spacing-top-micro acs_product-title\">\n",
      "<a class=\"a-link-normal\" href=\"/Stone-260-Portable-Bluetooth-Speakers/dp/B06Y64FM1C\" title=\"boAt Stone 260 Portable Bluetooth Speakers (Charcoal Black)\">\n",
      "<span class=\"a-size-small\">boAt Stone 260 Portable Bluetooth...</span>\n",
      "</a>\n",
      "</div> <span class=\"a-size-base a-color-price acs_product-price__buying\">₹ 1,295.00  </span>\n",
      "<div class=\"a-box-group a-spacing-top-micro acs_product-title\">\n",
      "<a class=\"a-link-normal\" href=\"/Portronics-POR-871-SoundDrum-Bluetooth-Speaker/dp/B07B2XRFRV\" title=\"Portronics POR-871 SoundDrum 4.2 Stereo Speaker (Black)\">\n",
      "<span class=\"a-size-small\">Portronics POR-871 SoundDrum 4.2...</span>\n",
      "</a>\n",
      "</div> <span class=\"a-size-base a-color-price acs_product-price__buying\">₹ 1,899.00  </span>\n",
      "<div class=\"a-box-group a-spacing-top-micro acs_product-title\">\n",
      "<a class=\"a-link-normal\" href=\"/TAGG-Sonic-Angle-Resistant-Bluetooth/dp/B07FMYLSBP\" title=\"TAGG Metal Sonic Angle 1 IPX5 Water Resistant Portable Bluetooth 2 x 5W Speakers with Mic, 3.5mm AUX Support and Supports Google Assistant/SIRI\">\n",
      "<span class=\"a-size-small\">TAGG Metal Sonic Angle 1 IPX5 Water...</span>\n",
      "</a>\n",
      "</div> <span class=\"a-size-base a-color-price acs_product-price__buying\">₹ 2,109.00  </span>\n",
      "<div class=\"a-box-group a-spacing-top-micro acs_product-title\">\n",
      "<a class=\"a-link-normal\" href=\"/Zoook-Thunder-Bluetooth-Speaker-Karaoke/dp/B07DVYNYPW\" title=\"Zoook Rocker Thunder 20 watts Bluetooth Speaker with Karaoke Mic /TF/FM/LED/USB\">\n",
      "<span class=\"a-size-small\">Zoook Rocker Thunder 20 watts...</span>\n",
      "</a>\n",
      "</div> <span class=\"a-size-base a-color-price acs_product-price__buying\">₹ 1,930.00  </span>\n",
      "<div class=\"a-box-group a-spacing-top-micro acs_product-title\">\n",
      "<a class=\"a-link-normal\" href=\"/Saregama-Carvaan-SC01-SC02-Portable/dp/B075YP6Y69\" title=\"Saregama Carvaan SC02 Portable Digital Music Player (Oak Wood Brown)\">\n",
      "<span class=\"a-size-small\">Saregama Carvaan SC02 Portable...</span>\n",
      "</a>\n",
      "</div> <span class=\"a-size-base a-color-price acs_product-price__buying\">₹ 5,798.00  </span>\n",
      "<div class=\"a-box-group a-spacing-top-micro acs_product-title\">\n",
      "<a class=\"a-link-normal\" href=\"/Sony-SA-D40-E12-Multimedia-Bluetooth/dp/B07864V1K1\" title=\"Sony SA-D40 C E12 4.1 Channel Multimedia Speaker System with Bluetooth (Black)\">\n",
      "<span class=\"a-size-small\">Sony SA-D40 C E12 4.1 Channel...</span>\n",
      "</a>\n",
      "</div> <span class=\"a-size-base a-color-price acs_product-price__buying\">₹ 7,571.00  </span>\n",
      "<div class=\"a-box-group a-spacing-top-micro acs_product-title\">\n",
      "<a class=\"a-link-normal\" href=\"/Saregama-SKU-R20008-SC01-Portable-Porcelain/dp/B075724BVF\" title=\"Saregama Carvaan Hindi SKU-R20008 (SC04) Portable Digital Music Player (Porcelain White)\">\n",
      "<span class=\"a-size-small\">Saregama Carvaan Hindi SKU-R20008...</span>\n",
      "</a>\n",
      "</div> <span class=\"a-size-base a-color-price acs_product-price__buying\">₹ 5,987.00  </span>\n",
      "<div class=\"a-box-group a-spacing-top-micro acs_product-title\">\n",
      "<a class=\"a-link-normal\" href=\"/Sony-MHC-V21D-Power-Portable-System/dp/B07G1FBDQX\" title=\"Sony MHC-V21D High Power Portable Party System (Black)\">\n",
      "<span class=\"a-size-small\">Sony MHC-V21D High Power Portable...</span>\n",
      "</a>\n",
      "</div> <span class=\"a-size-base a-color-price acs_product-price__buying\">₹ 17,367.00  </span>\n",
      "<div class=\"a-box-group a-spacing-top-micro acs_product-title\">\n",
      "<a class=\"a-link-normal\" href=\"/Bar-Wireless-Bluetooth-Soundbar-Subwoofer/dp/B07FPLKKCS\" title=\"boAt AAVANTE Bar Wireless Bluetooth Soundbar Speaker with Subwoofer and HDMI ARC (Black)\">\n",
      "<span class=\"a-size-small\">boAt AAVANTE Bar Wireless Bluetooth...</span>\n",
      "</a>\n",
      "</div> <span class=\"a-size-base a-color-price acs_product-price__buying\">₹ 8,999.00  </span>\n",
      "<div class=\"a-box-group a-spacing-top-micro acs_product-title\">\n",
      "<a class=\"a-link-normal\" href=\"/Sony-SRS-XB10-Portable-Splash-proof-Bluetooth/dp/B06Y5FYBKP\" title=\"Sony SRS-XB10 EXTRA BASS Portable Splash-proof Wireless Speaker with Bluetooth and NFC (Black)\">\n",
      "<span class=\"a-size-small\">Sony SRS-XB10 EXTRA BASS Portable...</span>\n",
      "</a>\n",
      "</div> <span class=\"a-size-base a-color-price acs_product-price__buying\">₹ 4,490.00  </span>\n",
      "<div class=\"a-box-group a-spacing-top-micro acs_product-title\">\n",
      "<a class=\"a-link-normal\" href=\"/JBL-Portable-Wireless-Powerful-Black/dp/B01MSYQWNY\" title=\"JBL Flip 4 Portable Wireless Speaker with Powerful Bass &amp; Mic (Black)\">\n",
      "<span class=\"a-size-small\">JBL Flip 4 Portable Wireless Speaker...</span>\n",
      "</a>\n",
      "</div> <span class=\"a-size-base a-color-price acs_product-price__buying\">₹ 7,464.00  </span>\n",
      "<div class=\"a-box-group a-spacing-top-micro acs_product-title\">\n",
      "<a class=\"a-link-normal\" href=\"/Echo-Spot-Stylish-screen-Black/dp/B01J6A7FGQ\" title=\"Echo Spot - Stylish echo with a screen (Black)\">\n",
      "<span class=\"a-size-small\">Echo Spot - Stylish echo with a screen</span>\n",
      "</a>\n",
      "</div> <span class=\"a-size-base a-color-price acs_product-price__buying\">₹ 12,999.00  </span>\n",
      "<div class=\"a-box-group a-spacing-top-micro acs_product-title\">\n",
      "<a class=\"a-link-normal\" href=\"/F210X-Channel-Multimedia-Bluetooth-Speakers/dp/B01KHCQBAI\" title=\"FD F210X 2.1 Channel Multimedia Bluetooth Speakers (Black)\">\n",
      "<span class=\"a-size-small\">FD F210X 2.1 Channel Multimedia...</span>\n",
      "</a>\n",
      "</div> <span class=\"a-size-base a-color-price acs_product-price__buying\">₹ 2,319.00  </span>\n",
      "<div class=\"a-box-group a-spacing-top-micro acs_product-title\">\n",
      "<a class=\"a-link-normal\" href=\"/Sony-MHC-V81D-Portable-System-Degree/dp/B07CY2P836\" title=\"Sony MHC-V81D High Power Portable Party Music System with 360 Degree Sound and Light (Black)\">\n",
      "<span class=\"a-size-small\">Sony MHC-V81D High Power Portable...</span>\n",
      "</a>\n",
      "</div> <span class=\"a-size-base a-color-price acs_product-price__buying\">₹ 45,322.00  </span>\n",
      "<div class=\"a-box-group a-spacing-top-micro acs_product-title\">\n",
      "<a class=\"a-link-normal\" href=\"/Zoook-Rocker-Boombox-Bluetooth-Speakers/dp/B0742HJSHF\" title=\"Zoook Rocker Boombox+ 32W Bluetooth Speakers (Black)\">\n",
      "<span class=\"a-size-small\">Zoook Rocker Boombox+ 32W Bluetooth...</span>\n",
      "</a>\n",
      "</div> <span class=\"a-size-base a-color-price acs_product-price__buying\">₹ 2,910.00  </span>\n",
      "<div class=\"a-box-group a-spacing-top-micro acs_product-title\">\n",
      "<a class=\"a-link-normal\" href=\"/Logitech-Surround-Sound-Speaker-System/dp/B004M18O60\" title=\"Logitech Z906 Surround Sound Speaker System\">\n",
      "<span class=\"a-size-small\">Logitech Z906 Surround Sound Speaker...</span>\n",
      "</a>\n",
      "</div> <span class=\"a-size-base a-color-price acs_product-price__buying\">₹ 19,999.00  </span>\n",
      "<div class=\"a-box-group a-spacing-top-micro acs_product-title\">\n",
      "<a class=\"a-link-normal\" href=\"/E200-Soundbar-Speaker-System-Black/dp/B008ZXS7PY\" title=\"F&amp;D E200 Soundbar Speaker System (Black)\">\n",
      "<span class=\"a-size-small\">F&amp;D E200 Soundbar Speaker System (Black)</span>\n",
      "</a>\n",
      "</div> <span class=\"a-size-base a-color-price acs_product-price__buying\">₹ 983.00  </span>\n",
      "<div class=\"a-box-group a-spacing-top-micro acs_product-title\">\n",
      "<a class=\"a-link-normal\" href=\"/All-new-Echo-Plus-2nd-built/dp/B0794JD9JS\" title=\"All-new Echo Plus (2nd gen) – Premium sound with a built-in smart home hub-Black\">\n",
      "<span class=\"a-size-small\">All-new Echo Plus – Premium sound...</span>\n",
      "</a>\n",
      "</div> <span class=\"a-size-base a-color-price acs_product-price__buying\">₹ 14,999.00  </span>\n",
      "<div class=\"a-box-group a-spacing-top-micro acs_product-title\">\n",
      "<a class=\"a-link-normal\" href=\"/Sony-MHC-V71D-Portable-System-360-Degree/dp/B07CY7RQL8\" title=\"Sony MHC-V71D High Power Portable Party Music System with 360-Degree Light (Black)\">\n",
      "<span class=\"a-size-small\">Sony MHC-V71D High Power Portable...</span>\n",
      "</a>\n",
      "</div> <span class=\"a-size-base a-color-price acs_product-price__buying\">₹ 36,909.00  </span>\n",
      "<div class=\"a-box-group a-spacing-top-micro acs_product-title\">\n",
      "<a class=\"a-link-normal\" href=\"/AmazonBasics-Ultra-Portable-Bluetooth-Speakers-Black/dp/B011W7HTSK\" title=\"AmazonBasics Ultra-Portable Nano Bluetooth Speakers (Black)\">\n",
      "<span class=\"a-size-small\">AmazonBasics Ultra-Portable Nano...</span>\n",
      "</a>\n",
      "</div> <span class=\"a-size-base a-color-price acs_product-price__buying\">₹ 599.00  </span>\n",
      "<div class=\"a-box-group a-spacing-top-micro acs_product-title\">\n",
      "<a class=\"a-link-normal\" href=\"/JBL-Channel-Wireless-Surround-Speakers/dp/B0778Q1SCZ\" title=\"JBL 5.1 Channel 4K Ultra HD Sound bar with True Wireless Surround Speakers (Black)\">\n",
      "<span class=\"a-size-small\">JBL 5.1 Channel 4K Ultra HD Sound bar...</span>\n",
      "</a>\n",
      "</div> <span class=\"a-size-base a-color-price acs_product-price__buying\">₹ 45,200.00  </span>\n",
      "<div class=\"a-box-group a-spacing-top-micro acs_product-title\">\n",
      "<a class=\"a-link-normal\" href=\"/JBL-Studio-Wireless-Sound-Built/dp/B074KL351X\" title=\"JBL Bar Studio Wireless Sound bar with Built-in Dual Bass Port (Black)\">\n",
      "<span class=\"a-size-small\">JBL Bar Studio Wireless Sound bar...</span>\n",
      "</a>\n",
      "</div> <span class=\"a-size-base a-color-price acs_product-price__buying\">₹ 12,959.00  </span>\n",
      "<div class=\"a-box-group a-spacing-top-micro acs_product-title\">\n",
      "<a class=\"a-link-normal\" href=\"/Bose-SoundLink-Wireless-Bluetooth-Speakers/dp/B014WEGG2K\" title=\"Bose SoundLink Mini II Wireless Bluetooth Speakers (Carbon)\">\n",
      "<span class=\"a-size-small\">Bose SoundLink Mini II Wireless...</span>\n",
      "</a>\n",
      "</div> <span class=\"a-size-base a-color-price acs_product-price__buying\">₹ 3,999.00  </span>\n",
      "<div class=\"a-box-group a-spacing-top-micro acs_product-title\">\n",
      "<a class=\"a-link-normal\" href=\"/OBAGE-HT-101-Theatre-Bluetooth-Playback/dp/B07DPPMFPX\" title=\"OBAGE HT-101 4.1 Home Theatre Speaker System with Bluetooth,Dual AUX,USB,MMC,FM Playback\">\n",
      "<span class=\"a-size-small\">OBAGE HT-101 4.1 Home Theatre Speaker...</span>\n",
      "</a>\n",
      "</div> <span class=\"a-size-base a-color-price acs_product-price__buying\">₹ 19,435.00  </span>\n",
      "<div class=\"a-box-group a-spacing-top-micro acs_product-title\">\n",
      "<a class=\"a-link-normal\" href=\"/Yamaha-YAS-108-SoundBar-SubWoofer-Bluetooth/dp/B07GJTX7TT\" title=\"Yamaha YAS-108 SoundBar with in-Built SubWoofer (120 Watts, DTS-X, Dolby Digital, HDMI, Bluetooth &amp; 4K)\">\n",
      "<span class=\"a-size-small\">Yamaha YAS-108 SoundBar with in-Built...</span>\n",
      "</a>\n",
      "</div> <span class=\"a-size-base a-color-price acs_product-price__buying\">₹ 26,850.00  </span>\n",
      "<div class=\"a-box-group a-spacing-top-micro acs_product-title\">\n",
      "<a class=\"a-link-normal\" href=\"/JBL-Most-Powerful-Portable-Speaker-20000MAH/dp/B075XR7W41\" title=\"JBL Boom Box Most-Powerful Portable Speaker with 20000MAH Battery Built-in Power Bank (Black)\">\n",
      "<span class=\"a-size-small\">JBL Boom Box Most-Powerful Portable...</span>\n",
      "</a>\n",
      "</div> <span class=\"a-size-base a-color-price acs_product-price__buying\">₹ 5,665.00  </span>\n",
      "<div class=\"a-box-group a-spacing-top-micro acs_product-title\">\n",
      "<a class=\"a-link-normal\" href=\"/F-D-F3800X-5-1-Speaker/dp/B01I054Y94\" title=\"F&amp;D F3800X 5.1 Speaker\">\n",
      "<span class=\"a-size-small\">F&amp;D F3800X 5.1 Speaker</span>\n",
      "</a>\n",
      "</div> <span class=\"a-size-base a-color-price acs_product-price__buying\">₹ 349.00  </span>\n",
      "<div class=\"a-box-group a-spacing-top-micro acs_product-title\">\n",
      "<a class=\"a-link-normal\" href=\"/Lambent-Wireless-Portable-Bluetooth-Smartphones/dp/B07JHJQ3TX\" title=\"Lambent Photron Wireless 3W Portable Bluetooth Speaker for All Smartphones/iOS Devices (Assorted Colors)\">\n",
      "<span class=\"a-size-small\">Lambent Photron Wireless 3W Portable...</span>\n",
      "</a>\n",
      "</div> <span class=\"a-size-base a-color-price acs_product-price__buying\">₹ 399.00  </span>\n",
      "<div class=\"a-box-group a-spacing-top-micro acs_product-title\">\n",
      "<a class=\"a-link-normal\" href=\"/MAKECELL-Portable-Wireless-Bluetooth-Functions/dp/B07L73BCN3\" title=\"MAKECELL Red Portable Wireless LED Bluetooth Speaker with Calling Functions\">\n",
      "<span class=\"a-size-small\">MAKECELL Red Portable Wireless LED...</span>\n",
      "</a>\n",
      "</div> <span class=\"a-size-base a-color-price acs_product-price__buying\">₹ 799.00  </span>\n",
      "<div class=\"a-box-group a-spacing-top-micro acs_product-title\">\n",
      "<a class=\"a-link-normal\" href=\"/Kingsford-Charge2Plus-SpillProof-Waterproof-Smartphones/dp/B07JZ5ZCBD\" title=\"Kingsford Charge2Plus SpillProof Wireless Bluetooth Waterproof Speakers with Portable and Shockproof Design Compatible with Redmi, Honor, iPhone and Android Smartphones\">\n",
      "<span class=\"a-size-small\">Kingsford Charge2Plus SpillProof...</span>\n",
      "</a>\n",
      "</div> <span class=\"a-size-base a-color-price acs_product-price__buying\">₹ 419.00  </span>\n",
      "<div class=\"a-box-group a-spacing-top-micro acs_product-title\">\n",
      "<a class=\"a-link-normal\" href=\"/Drumstone-Wireless-Bluetooth-Speaker-Controller/dp/B07JK3HBVD\" title=\"Drumstone Mini Wireless LED Bluetooth Speaker with Vr Box Virtual Reality 3D Glasses Headset+Bluetooth Wireless Vr Remote Controller\">\n",
      "<span class=\"a-size-small\">Drumstone Mini Wireless LED Bluetooth...</span>\n",
      "</a>\n",
      "</div> <span class=\"a-size-base a-color-price acs_product-price__buying\">₹ 1,299.00  </span>\n",
      "<div class=\"a-box-group a-spacing-top-micro acs_product-title\">\n",
      "<a class=\"a-link-normal\" href=\"/Bluetooth-MUZILI-Portable-Wireless-Waterproof/dp/B07KZW9MWK\" title=\"Bluetooth Speaker, MUZILI Portable Indoor/Outdoor Wireless Speaker with HD Stereo &amp; Bold Bass, Built-in Mic Waterproof Speaker, 15-Hour Playtime for Echo Dot iPhone Samsung Android Phone iPad, Perfect for Gift\">\n",
      "<span class=\"a-size-small\">Bluetooth Speaker, MUZILI Portable...</span>\n",
      "</a>\n",
      "</div> <span class=\"a-size-base a-color-price acs_product-price__buying\">₹ 569.00  </span>\n",
      "<div class=\"a-box-group a-spacing-top-micro acs_product-title\">\n",
      "<a class=\"a-link-normal\" href=\"/Tygot-Wireless-Portable-Bluetooth-Speaker/dp/B07KMYB7KD\" title=\"Tygot Wireless Portable Bluetooth Speaker with Smart Touch Led Mood Lamp, SD Card and Mic (Color May Vary)\">\n",
      "<span class=\"a-size-small\">Tygot Wireless Portable Bluetooth...</span>\n",
      "</a>\n",
      "</div> <span class=\"a-size-base a-color-price acs_product-price__buying\">₹ 369.00  </span>\n",
      "<div class=\"a-box-group a-spacing-top-micro acs_product-title\">\n",
      "<a class=\"a-link-normal\" href=\"/Rhobos-Wireless-Bluetooth-Speaker-Headphone/dp/B07JX6PYK4\" title=\"Rhobos Smart LED Light Crack Mini Wireless Bluetooth Speaker with Mega Bass Wired Headphone for iPhone X &amp; Samsung S9 Mobile\">\n",
      "<span class=\"a-size-small\">Rhobos Smart LED Light Crack Mini...</span>\n",
      "</a>\n",
      "</div> <span class=\"a-size-base a-color-price acs_product-price__buying\">₹ 2,199.00  </span>\n",
      "<div class=\"a-box-group a-spacing-top-micro acs_product-title\">\n",
      "<a class=\"a-link-normal\" href=\"/URBN-Bang-1000-Bluetooth-Wireless/dp/B07L3Y3MCP\" title=\"URBN Bang 1000 Bluetooth Wireless Speaker (Black)\">\n",
      "<span class=\"a-size-small\">URBN Bang 1000 Bluetooth Wireless...</span>\n",
      "</a>\n",
      "</div> <span class=\"a-size-base a-color-price acs_product-price__buying\">₹ 14,999.00  </span>\n",
      "<div class=\"a-box-group a-spacing-top-micro acs_product-title\">\n",
      "<a class=\"a-link-normal\" href=\"/All-new-Echo-Plus-2nd-built/dp/B07CTTL5GR\" title=\"All-new Echo Plus (2nd gen) – Premium sound with a built-in smart home hub-Grey\">\n",
      "<span class=\"a-size-small\">All-new Echo Plus – Premium sound...</span>\n",
      "</a>\n",
      "</div> <span class=\"a-size-base a-color-price acs_product-price__buying\">₹ 2,499.00  </span>\n",
      "<div class=\"a-box-group a-spacing-top-micro acs_product-title\">\n",
      "<a class=\"a-link-normal\" href=\"/boAt-Stone-SpinX-Portable-Wireless/dp/B07KCJR8Y8\" title=\"boAt Stone SpinX Portable Wireless Speaker with Extra Bass (Charcoal Black)\">\n",
      "<span class=\"a-size-small\">boAt Stone SpinX Portable Wireless...</span>\n",
      "</a>\n",
      "</div> <span class=\"a-size-base a-color-price acs_product-price__buying\">₹ 239.00  </span>\n",
      "<div class=\"a-box-group a-spacing-top-micro acs_product-title\">\n",
      "<a class=\"a-link-normal\" href=\"/Lambent-Universal-Wireless-Bluetooth-Sweat-Proof/dp/B07L6JCT4N\" title=\"Lambent K1 Universal Wireless 4.1 Bluetooth Earpiece, Sweat-Proof Headset\">\n",
      "<span class=\"a-size-small\">Lambent K1 Universal Wireless 4.1...</span>\n",
      "</a>\n",
      "</div> <span class=\"a-size-base a-color-price acs_product-price__buying\">₹ 349.00  </span>\n",
      "<div class=\"a-box-group a-spacing-top-micro acs_product-title\">\n",
      "<a class=\"a-link-normal\" href=\"/Prithvi-Bluetooth-Speaker-Calling-Support/dp/B07KLVYXTC\" title=\"Prithvi Bluetooth Stereo Speaker with Calling/FM Support/AUX/USB/SD Card Support -2017 (Random Colour)\">\n",
      "<span class=\"a-size-small\">Prithvi Bluetooth Stereo Speaker with...</span>\n",
      "</a>\n",
      "</div> <span class=\"a-size-base a-color-price acs_product-price__buying\">₹ 2,999.00  </span>\n",
      "<div class=\"a-box-group a-spacing-top-micro acs_product-title\">\n",
      "<a class=\"a-link-normal\" href=\"/Mivi-BS16OT-Portable-Wireless-Speaker/dp/B07J4WMBST\" title=\"Mivi Octave BS16OT Portable Wireless Speaker (Black)\">\n",
      "<span class=\"a-size-small\">Mivi Octave BS16OT Portable Wireless...</span>\n",
      "</a>\n",
      "</div> <span class=\"a-size-base a-color-price acs_product-price__buying\">₹ 2,999.00  </span>\n",
      "<div class=\"a-box-group a-spacing-top-micro acs_product-title\">\n",
      "<a class=\"a-link-normal\" href=\"/URBN-Bang-2000-MSD-Bluetooth/dp/B07L41KD62\" title=\"URBN Bang 2000 MSD Bluetooth Wireless Stereo Speaker (Blue)\">\n",
      "<span class=\"a-size-small\">URBN Bang 2000 MSD Bluetooth Wireless...</span>\n",
      "</a>\n",
      "</div> <span class=\"a-size-base a-color-price acs_product-price__buying\">₹ 1,299.00  </span>\n",
      "<div class=\"a-box-group a-spacing-top-micro acs_product-title\">\n",
      "<a class=\"a-link-normal\" href=\"/Bluetooth-Speaker-Portable-Outdoor-Wireless/dp/B07L9V9FBR\" title=\"I KALL IK-001 Bluetooth Single Speaker Portable Indoor Outdoor Wireless/Wired Speaker (Black)\">\n",
      "<span class=\"a-size-small\">I KALL IK-001 Bluetooth Single...</span>\n",
      "</a>\n",
      "</div> <span class=\"a-size-base a-color-price acs_product-price__buying\">₹ 5,990.00  </span>\n",
      "<div class=\"a-box-group a-spacing-top-micro acs_product-title\">\n",
      "<a class=\"a-link-normal\" href=\"/CERTIFIED-REFURBISHED-JBL-Portable-Wireless/dp/B078P1261V\" title=\"(CERTIFIED REFURBISHED) JBL Flip 4 Portable Wireless Speaker with Powerful Bass &amp; Mic (Black)\">\n",
      "<span class=\"a-size-small\">JBL Flip 4 Portable Wireless Speaker...</span>\n",
      "</a>\n",
      "</div> <span class=\"a-size-base a-color-price acs_product-price__buying\">₹ 2,699.00  </span>\n",
      "<div class=\"a-box-group a-spacing-top-micro acs_product-title\">\n",
      "<a class=\"a-link-normal\" href=\"/JBL-Portable-Bluetooth-Waterproof-Speaker/dp/B07CZ49TZF\" title=\"JBL GO 2 Portable Bluetooth Waterproof Speaker (Cyan)\">\n",
      "<span class=\"a-size-small\">JBL GO 2 Portable Bluetooth...</span>\n",
      "</a>\n",
      "</div> <span class=\"a-size-base a-color-price acs_product-price__buying\">₹ 599.00  </span>\n",
      "<div class=\"a-box-group a-spacing-top-micro acs_product-title\">\n",
      "<a class=\"a-link-normal\" href=\"/Lambent-Handheld-Microphone-Bluetooth-Smartphones/dp/B07KN6WVK9\" title=\"Lambent Handheld Wireless Microphone with Bluetooth Speaker for All iOS/Android Smartphones\">\n",
      "<span class=\"a-size-small\">Lambent Handheld Wireless Microphone...</span>\n",
      "</a>\n",
      "</div> <span class=\"a-size-base a-color-price acs_product-price__buying\">₹ 379.00  </span>\n",
      "<div class=\"a-box-group a-spacing-top-micro acs_product-title\">\n",
      "<a class=\"a-link-normal\" href=\"/Kingsford-Wireless-Portable-Bluetooth-Smartphones/dp/B07KWD4XQX\" title=\"Kingsford Ws-887 Wireless Portable Bluetooth Outdoor Speaker for Apple iPhone and Android Smartphones\">\n",
      "<span class=\"a-size-small\">Kingsford Ws-887 Wireless Portable...</span>\n",
      "</a>\n",
      "</div> <span class=\"a-size-base a-color-price acs_product-price__buying\">₹ 569.00  </span>\n",
      "<div class=\"a-box-group a-spacing-top-micro acs_product-title\">\n",
      "<a class=\"a-link-normal\" href=\"/Captcha-Wireless-Bluetooth-Outdoor-Speaker/dp/B07L8F2MBR\" title=\"Captcha Pack of Two Metal Mini S10 Wireless Bluetooth Loud Sound Outdoor Speaker with Sd Card Slot &amp; Fm Radio\">\n",
      "<span class=\"a-size-small\">Captcha Pack of Two Metal Mini S10...</span>\n",
      "</a>\n",
      "</div> <span class=\"a-size-base a-color-price acs_product-price__buying\">₹ 5,958.00  </span>\n",
      "<div class=\"a-box-group a-spacing-top-micro acs_product-title\">\n",
      "<a class=\"a-link-normal\" href=\"/Saregama-Carvaan-SC03-Portable-Cherrywood/dp/B07CJX9R4D\" title=\"Saregama Carvaan SC03 Portable Digital Music Player (Cherrywood Red)\">\n",
      "<span class=\"a-size-small\">Saregama Carvaan SC03 Portable...</span>\n",
      "</a>\n",
      "</div> <span class=\"a-size-base a-color-price acs_product-price__buying\">₹ 7,149.00  </span>\n",
      "<div class=\"a-box-group a-spacing-top-micro acs_product-title\">\n",
      "<a class=\"a-link-normal\" href=\"/Saregama-Carvaan-Premium-Portable-Digital/dp/B07H86KR34\" title=\"Saregama Carvaan Premium Portable Digital Music Player (Royal Blue)\">\n",
      "<span class=\"a-size-small\">Saregama Carvaan Premium Portable...</span>\n",
      "</a>\n",
      "</div> <span class=\"a-size-base a-color-price acs_product-price__buying\">₹ 1,920.00  </span>\n",
      "<div class=\"a-box-group a-spacing-top-micro acs_product-title\">\n",
      "<a class=\"a-link-normal\" href=\"/Saregama-Carvaan-SCM02-Bluetooth-Speaker/dp/B07GZHQFYR\" title=\"Saregama Carvaan SCM02 Mini 2.0 Bluetooth Speaker (Sunset Red)\">\n",
      "<span class=\"a-size-small\">Saregama Carvaan SCM02 Mini 2.0...</span>\n",
      "</a>\n",
      "</div> <span class=\"a-size-base a-color-price acs_product-price__buying\">₹ 1,399.00  </span>\n",
      "<div class=\"a-box-group a-spacing-top-micro acs_product-title\">\n",
      "<a class=\"a-link-normal\" href=\"/Stone-260-Portable-Bluetooth-Speakers/dp/B06Y5TZTPG\" title=\"boAt Stone 260 Portable Bluetooth Speakers (Jazzy Blue)\">\n",
      "<span class=\"a-size-small\">boAt Stone 260 Portable Bluetooth...</span>\n",
      "</a>\n",
      "</div> <span class=\"a-size-base a-color-price acs_product-price__buying\">₹ 2,050.00  </span>\n",
      "<div class=\"a-box-group a-spacing-top-micro acs_product-title\">\n",
      "<a class=\"a-link-normal\" href=\"/Saregama-Carvaan-SCM02-Bluetooth-Moonlight/dp/B07GZRR6NP\" title=\"Saregama Carvaan SCM02 Mini 2.0 Bluetooth Speaker (Moonlight Black)\">\n",
      "<span class=\"a-size-small\">Saregama Carvaan SCM02 Mini 2.0...</span>\n",
      "</a>\n",
      "</div> <span class=\"a-size-base a-color-price acs_product-price__buying\">₹ 1,935.00  </span>\n",
      "<div class=\"a-box-group a-spacing-top-micro acs_product-title\">\n",
      "<a class=\"a-link-normal\" href=\"/Saregama-Carvaan-Bluetooth-Speaker-Green/dp/B07H8B9W68\" title=\"Saregama Carvaan Mini 2.0 Bluetooth Speaker (Green)\">\n",
      "<span class=\"a-size-small\">Saregama Carvaan Mini 2.0 Bluetooth...</span>\n",
      "</a>\n",
      "</div> <span class=\"a-size-base a-color-price acs_product-price__buying\">₹ 1,232.00  </span>\n",
      "<div class=\"a-box-group a-spacing-top-micro acs_product-title\">\n",
      "<a class=\"a-link-normal\" href=\"/iBall-Soundstick-BT14-Bluetooth-Speakers/dp/B01N9P3RM3\" title=\"iBall Soundstick BT14 Bluetooth Speakers with Remote (Black/Silver)\">\n",
      "<span class=\"a-size-small\">iBall Soundstick BT14 Bluetooth...</span>\n",
      "</a>\n",
      "</div> <span class=\"a-size-base a-color-price acs_product-price__buying\">₹ 799.00  </span>\n",
      "<div class=\"a-box-group a-spacing-top-micro acs_product-title\">\n",
      "<a class=\"a-link-normal\" href=\"/Mi-Compact-MDZ-28-Bluetooth-Speaker/dp/B07HHBZSW5\" title=\"Mi Compact MDZ-28-DI Bluetooth Speaker (White)\">\n",
      "<span class=\"a-size-small\">Mi Compact MDZ-28-DI Bluetooth Speaker</span>\n",
      "</a>\n",
      "</div> <span class=\"a-size-base a-color-price acs_product-price__buying\">₹ 649.00  </span>\n",
      "<div class=\"a-box-group a-spacing-top-micro acs_product-title\">\n",
      "<a class=\"a-link-normal\" href=\"/Photron-P10-Wireless-Aluminium-Bluetooth/dp/B0746HL6TS\" title=\"Photron P10 Wireless 3W Super Bass Mini Metal Aluminium Alloy Portable Bluetooth Speaker with Mic (Blue)\">\n",
      "<span class=\"a-size-small\">Photron P10 Wireless 3W Super Bass...</span>\n",
      "</a>\n",
      "</div> <span class=\"a-size-base a-color-price acs_product-price__buying\">₹ 5,834.00  </span>\n",
      "<div class=\"a-box-group a-spacing-top-micro acs_product-title\">\n",
      "<a class=\"a-link-normal\" href=\"/Saregama-Carvaan-R20005-Portable-Digital/dp/B075CNG8CY\" title=\"Saregama Carvaan R20005 Portable Digital Music Player (Brown)\">\n",
      "<span class=\"a-size-small\">Saregama Carvaan R20005 Portable...</span>\n",
      "</a>\n",
      "</div> <span class=\"a-size-base a-color-price acs_product-price__buying\">₹ 2,699.00  </span>\n"
     ]
    }
   ],
   "source": [
    "import bs4\n",
    "import requests\n",
    "res = requests.get('https://www.amazon.in/Speakers/b/ref=sd_allcat_sbc_tvelec_speakers?ie=UTF8&node=1389365031')\n",
    "sup= bs4.BeautifulSoup(res.text, 'lxml')\n",
    "a=sup.find_all(\"div\", class_=\"a-box-group a-spacing-top-micro acs_product-title\")\n",
    "b=sup.find_all(\"span\", {\"class\":\"a-size-base a-color-price acs_product-price__buying\"})\n",
    "\n",
    "for i,j in zip(a[:70],b[:70]):\n",
    "    print(i,j)"
   ]
  },
  {
   "cell_type": "code",
   "execution_count": 142,
   "metadata": {},
   "outputs": [
    {
     "data": {
      "text/plain": [
       "79"
      ]
     },
     "execution_count": 142,
     "metadata": {},
     "output_type": "execute_result"
    }
   ],
   "source": [
    "len(b)"
   ]
  },
  {
   "cell_type": "code",
   "execution_count": 3,
   "metadata": {},
   "outputs": [
    {
     "data": {
      "text/plain": [
       "requests.models.Response"
      ]
     },
     "execution_count": 3,
     "metadata": {},
     "output_type": "execute_result"
    }
   ],
   "source": [
    "type(res)"
   ]
  },
  {
   "cell_type": "code",
   "execution_count": 110,
   "metadata": {},
   "outputs": [],
   "source": [
    "sup = bs4.BeautifulSoup(res.text,'lxml')"
   ]
  },
  {
   "cell_type": "code",
   "execution_count": 111,
   "metadata": {},
   "outputs": [],
   "source": [
    "a=sup.find_all(\"div\", class_=\"a-box-group a-spacing-top-micro acs_product-title\")"
   ]
  },
  {
   "cell_type": "code",
   "execution_count": 124,
   "metadata": {
    "scrolled": false
   },
   "outputs": [
    {
     "data": {
      "text/plain": [
       "71"
      ]
     },
     "execution_count": 124,
     "metadata": {},
     "output_type": "execute_result"
    }
   ],
   "source": [
    "len(a)"
   ]
  },
  {
   "cell_type": "markdown",
   "metadata": {},
   "source": []
  },
  {
   "cell_type": "code",
   "execution_count": 98,
   "metadata": {},
   "outputs": [
    {
     "data": {
      "text/plain": [
       "[]"
      ]
     },
     "execution_count": 98,
     "metadata": {},
     "output_type": "execute_result"
    }
   ],
   "source": [
    "name"
   ]
  },
  {
   "cell_type": "code",
   "execution_count": 119,
   "metadata": {},
   "outputs": [],
   "source": [
    "b=sup.find_all(\"span\", {\"class\":\"a-size-base a-color-price acs_product-price__buying\"})"
   ]
  },
  {
   "cell_type": "code",
   "execution_count": 123,
   "metadata": {},
   "outputs": [
    {
     "data": {
      "text/plain": [
       "70"
      ]
     },
     "execution_count": 123,
     "metadata": {},
     "output_type": "execute_result"
    }
   ],
   "source": [
    "len(b)"
   ]
  },
  {
   "cell_type": "code",
   "execution_count": 117,
   "metadata": {},
   "outputs": [],
   "source": [
    "price=[p.text for p in b]"
   ]
  },
  {
   "cell_type": "code",
   "execution_count": 89,
   "metadata": {},
   "outputs": [
    {
     "ename": "AttributeError",
     "evalue": "'list' object has no attribute 'replace'",
     "output_type": "error",
     "traceback": [
      "\u001b[1;31m---------------------------------------------------------------------------\u001b[0m",
      "\u001b[1;31mAttributeError\u001b[0m                            Traceback (most recent call last)",
      "\u001b[1;32m<ipython-input-89-0515d7bd36b9>\u001b[0m in \u001b[0;36m<module>\u001b[1;34m()\u001b[0m\n\u001b[1;32m----> 1\u001b[1;33m \u001b[0mp\u001b[0m\u001b[1;33m=\u001b[0m\u001b[0mp\u001b[0m\u001b[1;33m.\u001b[0m\u001b[0mreplace\u001b[0m\u001b[1;33m(\u001b[0m\u001b[1;34m'\\xa0'\u001b[0m\u001b[1;33m,\u001b[0m\u001b[1;34m' '\u001b[0m\u001b[1;33m)\u001b[0m\u001b[1;33m\u001b[0m\u001b[0m\n\u001b[0m",
      "\u001b[1;31mAttributeError\u001b[0m: 'list' object has no attribute 'replace'"
     ]
    }
   ],
   "source": [
    "p=p.replace('\\xa0',' ')"
   ]
  },
  {
   "cell_type": "code",
   "execution_count": 85,
   "metadata": {},
   "outputs": [
    {
     "data": {
      "text/plain": [
       "'Saregama Carvaan SC03 Portable...'"
      ]
     },
     "execution_count": 85,
     "metadata": {},
     "output_type": "execute_result"
    }
   ],
   "source": [
    "name[79]"
   ]
  },
  {
   "cell_type": "code",
   "execution_count": null,
   "metadata": {},
   "outputs": [],
   "source": []
  }
 ],
 "metadata": {
  "kernelspec": {
   "display_name": "Python 3",
   "language": "python",
   "name": "python3"
  },
  "language_info": {
   "codemirror_mode": {
    "name": "ipython",
    "version": 3
   },
   "file_extension": ".py",
   "mimetype": "text/x-python",
   "name": "python",
   "nbconvert_exporter": "python",
   "pygments_lexer": "ipython3",
   "version": "3.6.5"
  }
 },
 "nbformat": 4,
 "nbformat_minor": 2
}

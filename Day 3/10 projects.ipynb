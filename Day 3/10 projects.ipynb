{
 "cells": [
  {
   "cell_type": "markdown",
   "metadata": {},
   "source": [
    "# ATM"
   ]
  },
  {
   "cell_type": "code",
   "execution_count": null,
   "metadata": {},
   "outputs": [],
   "source": [
    "##ATM Program\n",
    "\n",
    "acc=['bir','kunal','sahil','chirag']\n",
    "pins=[1234,5678,3456,7890]\n",
    "acc_bal=[392,9829,9323,293220]\n",
    "\n",
    "print(\"Welcome to People's Bank\")\n",
    "u=(input(\"Enter your acc name: \"))\n",
    "pin=eval(input(\"Enter your pin: \"))\n",
    "for i in range(len(acc)):\n",
    "    if u==acc[i]:\n",
    "        if pin==pins[i]:\n",
    "            print(\"Pin Success\")\n",
    "            p=1\n",
    "            break\n",
    "        else:\n",
    "            print(\"Incorrect pin\")\n",
    "            break\n",
    "if p==1:\n",
    "    print(\"1.Withdraw\\n\")\n",
    "    print(\"2.Deposit\\n\")\n",
    "    print(\"3.balance\\n\")\n",
    "    c=eval(input(\"Enter your choice: \"))\n",
    "if c==1:\n",
    "    a=eval(input(\"Enter Amount: \"))\n",
    "    if a>=0:\n",
    "        if acc_bal[i]>=a:\n",
    "            print(\"Amount Withdrawn\")\n",
    "            acc_bal[i]=acc_bal[i]-a\n",
    "            print(\"New Balance: \",acc_bal[i])\n",
    "        else:\n",
    "            print(\"insufficent Balance\")\n",
    "elif ch==2:\n",
    "    a=eval(input(\"Enter Amount: \"))\n",
    "    if a>=0:\n",
    "        print(\"Amount Deposited\")\n",
    "        acc_bal[i]=accc_bal[i]+a\n",
    "        print(\"New Balance: \",acc_bal[i])\n",
    "else:\n",
    "    print(\"Current balance: \",acc_bal[i])\n"
   ]
  },
  {
   "cell_type": "markdown",
   "metadata": {},
   "source": [
    "# CALCULATOR"
   ]
  },
  {
   "cell_type": "code",
   "execution_count": null,
   "metadata": {},
   "outputs": [],
   "source": [
    "# Program make a simple calculator that can add, subtract, multiply and divide using functions\n",
    "\n",
    "# This function adds two numbers \n",
    "def add(x, y):\n",
    "   return x + y\n",
    "\n",
    "# This function subtracts two numbers \n",
    "def subtract(x, y):\n",
    "   return x - y\n",
    "\n",
    "# This function multiplies two numbers\n",
    "def multiply(x, y):\n",
    "   return x * y\n",
    "\n",
    "# This function divides two numbers\n",
    "def divide(x, y):\n",
    "   return x / y\n",
    "\n",
    "print(\"Select operation.\")\n",
    "print(\"1.Add\")\n",
    "print(\"2.Subtract\")\n",
    "print(\"3.Multiply\")\n",
    "print(\"4.Divide\")\n",
    "\n",
    "# Take input from the user \n",
    "choice = input(\"Enter choice(1/2/3/4):\")\n",
    "\n",
    "num1 = int(input(\"Enter first number: \"))\n",
    "num2 = int(input(\"Enter second number: \"))\n",
    "\n",
    "if choice == '1':\n",
    "   print(num1,\"+\",num2,\"=\", add(num1,num2))\n",
    "\n",
    "elif choice == '2':\n",
    "   print(num1,\"-\",num2,\"=\", subtract(num1,num2))\n",
    "\n",
    "elif choice == '3':\n",
    "   print(num1,\"*\",num2,\"=\", multiply(num1,num2))\n",
    "\n",
    "elif choice == '4':\n",
    "   print(num1,\"/\",num2,\"=\", divide(num1,num2))\n",
    "else:\n",
    "   print(\"Invalid input\")"
   ]
  },
  {
   "cell_type": "code",
   "execution_count": 4,
   "metadata": {},
   "outputs": [
    {
     "name": "stdout",
     "output_type": "stream",
     "text": [
      "Welcome to Pizza Hut!!\n",
      "If you want to start the order press 11\n",
      "Press 1 for picup /n/ Press 2 for delivery /n/ Press 3 to cancel2\n",
      "What is your name: kunal\n",
      "How many pizzas do you want? /n/ Note:Max order can be 52\n",
      "Please provide the adress: ssoicj,dijsi,dsjdi\n"
     ]
    }
   ],
   "source": [
    "delivery_charge=0\n",
    "order_type=0\n",
    "def start():\n",
    "    print(\"Welcome to Pizza Hut!!\")\n",
    "    global start\n",
    "    start=eval(input(\"If you want to start the order press 1\"))\n",
    "start()\n",
    "\n",
    "if start==1:\n",
    "    order_type=eval(input(\"Press 1 for picup /n/ Press 2 for delivery /n/ Press 3 to cancel\"))\n",
    "if order_type==1 or order_type==2:\n",
    "    name=str(input(\"What is your name: \"))\n",
    "    amount_pizza=eval(input(\"How many pizzas do you want? /n/ Note:Max order can be 5\"))\n",
    "if order_type==2:\n",
    "    adress=str(input(\"Please provide the adress: \"))\n",
    "    delivery_cahrge=delivery_charge+3\n",
    "    print(\"Thank you!!\")\n",
    "else:\n",
    "    print(\"Thank you!!\")"
   ]
  },
  {
   "cell_type": "code",
   "execution_count": null,
   "metadata": {},
   "outputs": [],
   "source": []
  }
 ],
 "metadata": {
  "kernelspec": {
   "display_name": "Python 3",
   "language": "python",
   "name": "python3"
  },
  "language_info": {
   "codemirror_mode": {
    "name": "ipython",
    "version": 3
   },
   "file_extension": ".py",
   "mimetype": "text/x-python",
   "name": "python",
   "nbconvert_exporter": "python",
   "pygments_lexer": "ipython3",
   "version": "3.6.5"
  }
 },
 "nbformat": 4,
 "nbformat_minor": 2
}

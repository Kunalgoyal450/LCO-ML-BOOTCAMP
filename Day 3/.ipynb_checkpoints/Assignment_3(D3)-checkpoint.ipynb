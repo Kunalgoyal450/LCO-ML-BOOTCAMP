{
 "cells": [
  {
   "cell_type": "markdown",
   "metadata": {},
   "source": [
    "## P1\n",
    "\n",
    "### Implement an algorithm to determine if a string has all unique characters"
   ]
  },
  {
   "cell_type": "code",
   "execution_count": 3,
   "metadata": {},
   "outputs": [
    {
     "name": "stdout",
     "output_type": "stream",
     "text": [
      "Put your string here: unique\n"
     ]
    },
    {
     "data": {
      "text/plain": [
       "False"
      ]
     },
     "execution_count": 3,
     "metadata": {},
     "output_type": "execute_result"
    }
   ],
   "source": [
    "def is_unique(string):\n",
    "    return len(string) == len(set(string))\n",
    "is_unique(input(\"Put your string here: \"))"
   ]
  },
  {
   "cell_type": "markdown",
   "metadata": {},
   "source": [
    "## P2\n",
    "\n",
    "### How can you access the element '5' from this list = [0 ,[ 6, 3], [4, 6, [7, 5] ] ]"
   ]
  },
  {
   "cell_type": "code",
   "execution_count": 3,
   "metadata": {},
   "outputs": [
    {
     "name": "stdout",
     "output_type": "stream",
     "text": [
      "5\n"
     ]
    }
   ],
   "source": [
    "l=[0,[6,3],[4,6,[7,5]]]\n",
    "print(l[2][2][1])"
   ]
  },
  {
   "cell_type": "markdown",
   "metadata": {},
   "source": [
    "## P3\n",
    "\n",
    "### How can you return a sub list from a list returning 3 consecutive elements where the last element links back to the first given any index into the list? (note syntax is python) \n",
    "\n",
    "For example, given index 3 for list = [1,2,3,4,5], would return [4,5,1]. Or given index 4 with list = [1,2,3,4,5], would return [5,1,2].\n"
   ]
  },
  {
   "cell_type": "code",
   "execution_count": 26,
   "metadata": {},
   "outputs": [
    {
     "name": "stdout",
     "output_type": "stream",
     "text": [
      "Put index: 3\n",
      "How many letters do you want: 3\n"
     ]
    },
    {
     "data": {
      "text/plain": [
       "[4, 5, 1]"
      ]
     },
     "execution_count": 26,
     "metadata": {},
     "output_type": "execute_result"
    }
   ],
   "source": [
    "l = [1,2,3,4,5]\n",
    "def roundlist(l,i,v):\n",
    "     return (l+l)[i:i+v]\n",
    "roundlist(l,eval(input(\"Put index: \")),eval(input(\"How many letters do you want: \")))"
   ]
  },
  {
   "cell_type": "markdown",
   "metadata": {},
   "source": [
    "## P3\n",
    "\n",
    "You have been given 3 integers - l, r and k. Find how many numbers between l and r (both inclusive) are divisible by k. You do not need to print these numbers, you just have to find their count.\n",
    "\n",
    "Input Format\n",
    "The first and only line of input contains 3 space separated integers l, r and k.\n",
    "\n",
    "Output Format\n",
    "Print the required answer on a single line. \n",
    "\n",
    "\n",
    "SAMPLE INPUT\n",
    "\n",
    "1 10 1\n",
    "\n",
    "SAMPLE OUTPUT\n",
    "\n",
    "10"
   ]
  },
  {
   "cell_type": "code",
   "execution_count": 8,
   "metadata": {},
   "outputs": [
    {
     "name": "stdout",
     "output_type": "stream",
     "text": [
      "Put your first no. here: 1\n",
      "Put your second no. here: 10\n",
      "Put your third no. here: 2\n",
      "5\n"
     ]
    }
   ],
   "source": [
    "l=eval(input(\"Put your first no. here: \"))\n",
    "r=eval(input(\"Put your second no. here: \"))\n",
    "k=eval(input(\"Put your third no. here: \"))\n",
    "count=0\n",
    "for i in range(l,r):\n",
    "    if i%k==0:\n",
    "        count=count+1\n",
    "print(count+1)   "
   ]
  },
  {
   "cell_type": "markdown",
   "metadata": {},
   "source": [
    "## P4\n",
    "\n",
    "### Assume you have a method isSubstring which checks if one word is a substring of another. Given two strings, s1 and s2, write code to check if s2 is a rotation of s1 using only one call to isSubstring (e.g., \"waterbottle\" is a rotation of \"erbottlewat\")."
   ]
  },
  {
   "cell_type": "code",
   "execution_count": 16,
   "metadata": {},
   "outputs": [
    {
     "name": "stdout",
     "output_type": "stream",
     "text": [
      "Put your first string here: yes\n",
      "Put your second string here: sye\n",
      "False\n"
     ]
    }
   ],
   "source": [
    "def is_rotation(s1,s2):\n",
    "    if len(s1)==len(s2) and s1 in s2*2:\n",
    "        print(False)\n",
    "    else:\n",
    "        print(True)\n",
    "is_rotation(input(\"Put your first string here: \"),input(\"Put your second string here: \"))"
   ]
  },
  {
   "cell_type": "markdown",
   "metadata": {},
   "source": [
    "## P5\n",
    "\n",
    "### d = {'Name' : ['ranjan','lavish','hello','python'], 'Number':[9876543210, 8765432109, 7890766157, 8754789754]}   all name and numbers are respectively related by each index. print the number of lavish"
   ]
  },
  {
   "cell_type": "code",
   "execution_count": 24,
   "metadata": {},
   "outputs": [
    {
     "name": "stdout",
     "output_type": "stream",
     "text": [
      "lavish  --  8765432109\n"
     ]
    }
   ],
   "source": [
    "# Answer\n",
    "d = {'Name' : ['ranjan','lavish','hello','python'], 'Number':[9876543210, 8765432109, 7890766157, 8754789754]}\n",
    "print(d.get('Name')[1], \" -- \",d.get('Number')[1])"
   ]
  }
 ],
 "metadata": {
  "kernelspec": {
   "display_name": "Python 3",
   "language": "python",
   "name": "python3"
  },
  "language_info": {
   "codemirror_mode": {
    "name": "ipython",
    "version": 3
   },
   "file_extension": ".py",
   "mimetype": "text/x-python",
   "name": "python",
   "nbconvert_exporter": "python",
   "pygments_lexer": "ipython3",
   "version": "3.6.5"
  }
 },
 "nbformat": 4,
 "nbformat_minor": 2
}

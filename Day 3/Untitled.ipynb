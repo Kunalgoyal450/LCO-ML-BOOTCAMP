{
 "cells": [
  {
   "cell_type": "code",
   "execution_count": 9,
   "metadata": {},
   "outputs": [],
   "source": [
    "df = {'name':'Kunal', 'age':18, 'Bootcamp':'Python'}"
   ]
  },
  {
   "cell_type": "code",
   "execution_count": 10,
   "metadata": {},
   "outputs": [
    {
     "data": {
      "text/plain": [
       "'Kunal'"
      ]
     },
     "execution_count": 10,
     "metadata": {},
     "output_type": "execute_result"
    }
   ],
   "source": [
    "df.get('name')"
   ]
  },
  {
   "cell_type": "code",
   "execution_count": 11,
   "metadata": {},
   "outputs": [
    {
     "data": {
      "text/plain": [
       "dict"
      ]
     },
     "execution_count": 11,
     "metadata": {},
     "output_type": "execute_result"
    }
   ],
   "source": [
    "type(df)"
   ]
  },
  {
   "cell_type": "code",
   "execution_count": 12,
   "metadata": {},
   "outputs": [
    {
     "data": {
      "text/plain": [
       "int"
      ]
     },
     "execution_count": 12,
     "metadata": {},
     "output_type": "execute_result"
    }
   ],
   "source": [
    "type(df.get('age'))"
   ]
  },
  {
   "cell_type": "code",
   "execution_count": 13,
   "metadata": {},
   "outputs": [
    {
     "name": "stdout",
     "output_type": "stream",
     "text": [
      "name : Kunal\n",
      "age : 18\n",
      "Bootcamp : Python\n"
     ]
    }
   ],
   "source": [
    "for i in df:\n",
    "    print(i, ':',df.get(i))"
   ]
  },
  {
   "cell_type": "code",
   "execution_count": 14,
   "metadata": {},
   "outputs": [
    {
     "name": "stdout",
     "output_type": "stream",
     "text": [
      "name Kunal\n",
      "age 18\n",
      "Bootcamp Python\n"
     ]
    }
   ],
   "source": [
    "for key,value in df.items():\n",
    "    print(key,value)"
   ]
  },
  {
   "cell_type": "code",
   "execution_count": 15,
   "metadata": {},
   "outputs": [
    {
     "name": "stdout",
     "output_type": "stream",
     "text": [
      "Kunal\n",
      "18\n",
      "Python\n"
     ]
    }
   ],
   "source": [
    "for value in df.values():\n",
    "    print(value)"
   ]
  },
  {
   "cell_type": "code",
   "execution_count": 17,
   "metadata": {},
   "outputs": [
    {
     "name": "stdout",
     "output_type": "stream",
     "text": [
      "Siddu Goosewala\n",
      "Siddu Goosewala\n",
      "Siddu Goosewala\n",
      "Siddu Goosewala\n",
      "Siddu Goosewala\n",
      "Siddu Goosewala\n",
      "Siddu Goosewala\n",
      "Siddu Goosewala\n",
      "Siddu Goosewala\n",
      "Siddu Goosewala\n",
      "Siddu Goosewala\n",
      "Siddu Goosewala\n",
      "Siddu Goosewala\n",
      "Siddu Goosewala\n",
      "Siddu Goosewala\n",
      "Siddu Goosewala\n",
      "Siddu Goosewala\n",
      "Siddu Goosewala\n",
      "Siddu Goosewala\n",
      "Siddu Goosewala\n"
     ]
    }
   ],
   "source": [
    "i=20\n",
    "while i>0:\n",
    "    print(\"Siddu Goosewala\")\n",
    "    i-=1"
   ]
  },
  {
   "cell_type": "code",
   "execution_count": 18,
   "metadata": {},
   "outputs": [
    {
     "name": "stdout",
     "output_type": "stream",
     "text": [
      "Rakh kirpane ute khande rootiyaan\n",
      "Rakh kirpane ute khande rootiyaan\n",
      "Rakh kirpane ute khande rootiyaan\n"
     ]
    }
   ],
   "source": [
    "i=2\n",
    "while True:\n",
    "    print(\"Rakh kirpane ute khande rootiyaan\")\n",
    "    i-=1\n",
    "    if i<0:\n",
    "        break"
   ]
  },
  {
   "cell_type": "code",
   "execution_count": 1,
   "metadata": {},
   "outputs": [],
   "source": [
    "##ATM\n",
    "acc_hoders=['kunal','sahil','bir','chirag']\n",
    "pin=[1233,7383,3939,7839]\n",
    "balance=[9920,9232,44,14878448]\n",
    "\n",
    "\n",
    "\n",
    "print"
   ]
  },
  {
   "cell_type": "code",
   "execution_count": null,
   "metadata": {},
   "outputs": [],
   "source": []
  }
 ],
 "metadata": {
  "kernelspec": {
   "display_name": "Python 3",
   "language": "python",
   "name": "python3"
  },
  "language_info": {
   "codemirror_mode": {
    "name": "ipython",
    "version": 3
   },
   "file_extension": ".py",
   "mimetype": "text/x-python",
   "name": "python",
   "nbconvert_exporter": "python",
   "pygments_lexer": "ipython3",
   "version": "3.6.5"
  }
 },
 "nbformat": 4,
 "nbformat_minor": 2
}

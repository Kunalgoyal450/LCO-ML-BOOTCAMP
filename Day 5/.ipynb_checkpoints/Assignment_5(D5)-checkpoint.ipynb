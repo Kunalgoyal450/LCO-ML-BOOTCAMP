{
 "cells": [
  {
   "cell_type": "markdown",
   "metadata": {},
   "source": [
    "#### P1 \n",
    "Compute Diagonal Difference\n",
    "\n",
    "Sample Input\n",
    "\n",
    "3\n",
    "\n",
    "\n",
    "11 2 4\n",
    "\n",
    "4 5 6\n",
    "\n",
    "10 8 -12\n",
    "\n",
    "Sample Output\n",
    "\n",
    "15"
   ]
  },
  {
   "cell_type": "code",
   "execution_count": null,
   "metadata": {},
   "outputs": [],
   "source": []
  },
  {
   "cell_type": "markdown",
   "metadata": {},
   "source": [
    "#### P2\n",
    "\n",
    "Find Pairs In An Array Which Have MAXIMUM SUM And MINIMUM SUM"
   ]
  },
  {
   "cell_type": "code",
   "execution_count": null,
   "metadata": {},
   "outputs": [],
   "source": []
  },
  {
   "cell_type": "markdown",
   "metadata": {},
   "source": [
    "#### P3\n",
    "\n",
    "Find Pair In An Array Which Have MAXIMUM Difference"
   ]
  },
  {
   "cell_type": "code",
   "execution_count": null,
   "metadata": {},
   "outputs": [],
   "source": []
  },
  {
   "cell_type": "markdown",
   "metadata": {},
   "source": [
    "#### P4\n",
    "\n",
    "Sample Input\n",
    "\n",
    "-4 3 -9 0 4 1         \n",
    "\n",
    "Sample Output\n",
    "\n",
    "0.500000\n",
    "\n",
    "0.333333\n",
    "\n",
    "0.166667\n",
    "\n",
    "There are 3 positive numbers,2 negative numbers,1 and zero in the array.\n",
    "The proportions of occurrence are positive: 3/6=0.500000 , negative: 2/6=0.333333 and zeros: 1/6=0.166667.\n"
   ]
  },
  {
   "cell_type": "code",
   "execution_count": null,
   "metadata": {},
   "outputs": [],
   "source": []
  },
  {
   "cell_type": "markdown",
   "metadata": {},
   "source": [
    "## P5\n",
    "\n",
    "### Implement Dice Number Generator"
   ]
  },
  {
   "cell_type": "code",
   "execution_count": null,
   "metadata": {},
   "outputs": [],
   "source": []
  }
 ],
 "metadata": {
  "kernelspec": {
   "display_name": "Python 3",
   "language": "python",
   "name": "python3"
  },
  "language_info": {
   "codemirror_mode": {
    "name": "ipython",
    "version": 3
   },
   "file_extension": ".py",
   "mimetype": "text/x-python",
   "name": "python",
   "nbconvert_exporter": "python",
   "pygments_lexer": "ipython3",
   "version": "3.6.5"
  }
 },
 "nbformat": 4,
 "nbformat_minor": 2
}

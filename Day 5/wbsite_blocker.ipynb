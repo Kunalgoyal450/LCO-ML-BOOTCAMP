{
 "cells": [
  {
   "cell_type": "code",
   "execution_count": 1,
   "metadata": {},
   "outputs": [
    {
     "ename": "SyntaxError",
     "evalue": "invalid syntax (<ipython-input-1-48d2e04d8dea>, line 12)",
     "output_type": "error",
     "traceback": [
      "\u001b[1;36m  File \u001b[1;32m\"<ipython-input-1-48d2e04d8dea>\"\u001b[1;36m, line \u001b[1;32m12\u001b[0m\n\u001b[1;33m    if dt(dt.now().year,dt.now().month,dt.now().day,) < dt.now() < dt.now().year,dt.now().month,dt.now().day,endtime)\u001b[0m\n\u001b[1;37m                                                                                ^\u001b[0m\n\u001b[1;31mSyntaxError\u001b[0m\u001b[1;31m:\u001b[0m invalid syntax\n"
     ]
    }
   ],
   "source": [
    "import time\n",
    "from datetime import datetime as dt\n",
    "\n",
    "hosts_file=r\"C:\\Windows\\System32\\Drivers\\etc\\hosts\"\n",
    "local=\"127.0.0.1\"\n",
    "websites=input(\"Put your website here to block: \")\n",
    "website_list=[]\n",
    "website_list.apppend(websites)\n",
    "starttime=int(input(\"Input Start time here: \"))\n",
    "endtime=int(input(\"Input end time here: \"))\n",
    "while True:\n",
    "    if dt(dt.now().year,dt.now().month,dt.now().day,) < dt.now() < dt.now().year,dt.now().month,dt.now().day,endtime)\n",
    "        with open(hosts_file, 'r+') as file:\n",
    "            content=file.read()\n",
    "            for website in website_list:\n",
    "                if website in content:\n",
    "                    pass\n",
    "                else:\n",
    "                    file.write(local+\" \"+ website+\"\\n\")\n",
    "    else:\n",
    "        with open(hosts_file,'r+') as file:\n",
    "            content=file.readlines()\n",
    "            file.seek(0)\n",
    "            for line in content:\n",
    "                if not any(website in line for website in website_list):\n",
    "                    file.write(line)\n",
    "            file.truncate()\n",
    "    time.sleep(120)"
   ]
  },
  {
   "cell_type": "code",
   "execution_count": null,
   "metadata": {},
   "outputs": [],
   "source": [
    "import time\n",
    "from datetime import datetime as dt\n",
    "\n",
    "hosts_file=r\"C:\\Windows\\System32\\Drivers\\etc\\hosts\"\n",
    "local=\"127.0.0.1\"\n",
    "website_list=[\"www.facebook.com\",\"facebook.com\",\"www.twitter.com\",\"twitter.com\"]\n",
    "\n",
    "while True:\n",
    "    if dt(dt.now().year,dt.now().month,dt.now().day,9) < dt.now() < dt(dt.now().year,dt.now().month,dt.now().day,17):\n",
    "        with open(hosts_file,'r+') as file:\n",
    "            content=file.read()\n",
    "            for website in website_list:\n",
    "                if website in content:\n",
    "                    pass\n",
    "                else:\n",
    "                    file.write(local+\" \"+ website+\"\\n\")\n",
    "   \n",
    "    time.sleep(120)"
   ]
  },
  {
   "cell_type": "code",
   "execution_count": 1,
   "metadata": {},
   "outputs": [],
   "source": [
    "host=\"C:\\Windows\\System32\\Drivers\\etc\\hosts\""
   ]
  },
  {
   "cell_type": "code",
   "execution_count": 2,
   "metadata": {},
   "outputs": [
    {
     "name": "stdout",
     "output_type": "stream",
     "text": [
      "# Copyright (c) 1993-2009 Microsoft Corp.\n",
      "#\n",
      "# This is a sample HOSTS file used by Microsoft TCP/IP for Windows.\n",
      "#\n",
      "# This file contains the mappings of IP addresses to host names. Each\n",
      "# entry should be kept on an individual line. The IP address should\n",
      "# be placed in the first column followed by the corresponding host name.\n",
      "# The IP address and the host name should be separated by at least one\n",
      "# space.\n",
      "#\n",
      "# Additionally, comments (such as these) may be inserted on individual\n",
      "# lines or following the machine name denoted by a '#' symbol.\n",
      "#\n",
      "# For example:\n",
      "#\n",
      "#      102.54.94.97     rhino.acme.com          # source server\n",
      "#       38.25.63.10     x.acme.com              # x client host\n",
      "\n",
      "# localhost name resolution is handled within DNS itself.\n",
      "#\t127.0.0.1       localhost\n",
      "#\t::1             localhost\n",
      "\n",
      "\n",
      "\n",
      "\n",
      "\n",
      "\n",
      "0.0.0.1\tmssplus.mcafee.com\n"
     ]
    }
   ],
   "source": [
    "with open(host,'r') as file:\n",
    "    p=file.read()\n",
    "    print(p)"
   ]
  },
  {
   "cell_type": "code",
   "execution_count": null,
   "metadata": {},
   "outputs": [],
   "source": []
  }
 ],
 "metadata": {
  "kernelspec": {
   "display_name": "Python 3",
   "language": "python",
   "name": "python3"
  },
  "language_info": {
   "codemirror_mode": {
    "name": "ipython",
    "version": 3
   },
   "file_extension": ".py",
   "mimetype": "text/x-python",
   "name": "python",
   "nbconvert_exporter": "python",
   "pygments_lexer": "ipython3",
   "version": "3.6.5"
  }
 },
 "nbformat": 4,
 "nbformat_minor": 2
}
